{
 "cells": [
  {
   "cell_type": "code",
   "execution_count": 1,
   "id": "64879307",
   "metadata": {
    "ExecuteTime": {
     "end_time": "2022-06-17T00:55:29.198451Z",
     "start_time": "2022-06-17T00:55:29.192600Z"
    }
   },
   "outputs": [],
   "source": [
    "%config Completer.use_jedi = False"
   ]
  },
  {
   "cell_type": "code",
   "execution_count": 1,
   "id": "c89f9b71",
   "metadata": {
    "ExecuteTime": {
     "end_time": "2022-06-17T01:06:15.180808Z",
     "start_time": "2022-06-17T01:06:15.178752Z"
    }
   },
   "outputs": [],
   "source": [
    "import numpy as np\n",
    "import pandas as pd\n",
    "import tensorflow as tf\n",
    "from tensorflow import keras\n",
    "import scipy\n",
    "import os"
   ]
  },
  {
   "cell_type": "code",
   "execution_count": 2,
   "id": "e99a65c3",
   "metadata": {
    "ExecuteTime": {
     "end_time": "2022-06-17T01:05:10.457253Z",
     "start_time": "2022-06-17T01:05:10.453845Z"
    }
   },
   "outputs": [],
   "source": [
    "from tensorflow.keras.applications import ResNet50\n",
    "from tensorflow.keras.applications.resnet50 import preprocess_input\n",
    "from tensorflow.keras.preprocessing.image import img_to_array\n",
    "from tensorflow.keras.preprocessing.image import load_img"
   ]
  },
  {
   "cell_type": "code",
   "execution_count": 3,
   "id": "87a0fab8",
   "metadata": {
    "ExecuteTime": {
     "end_time": "2022-06-08T21:00:50.022063Z",
     "start_time": "2022-06-08T21:00:50.011750Z"
    }
   },
   "outputs": [
    {
     "name": "stdout",
     "output_type": "stream",
     "text": [
      "Object `model.compile` not found.\n"
     ]
    }
   ],
   "source": [
    "model.compile?"
   ]
  },
  {
   "cell_type": "code",
   "execution_count": 4,
   "id": "f1fc7b0d",
   "metadata": {
    "ExecuteTime": {
     "end_time": "2022-06-08T20:28:14.357342Z",
     "start_time": "2022-06-08T20:28:14.347802Z"
    }
   },
   "outputs": [],
   "source": [
    "keras.applications.Xception?"
   ]
  },
  {
   "cell_type": "markdown",
   "id": "b6171e23",
   "metadata": {},
   "source": [
    "## Model structure"
   ]
  },
  {
   "cell_type": "code",
   "execution_count": 44,
   "id": "523d20b7",
   "metadata": {
    "ExecuteTime": {
     "end_time": "2022-06-17T01:40:54.106888Z",
     "start_time": "2022-06-17T01:40:52.920343Z"
    }
   },
   "outputs": [],
   "source": [
    "base_model = keras.applications.ResNet50(weights=\"imagenet\", include_top=False)\n",
    "\n",
    "# base_model = keras.applications.Xception(weights=\"imagenet\", include_top=False)\n",
    "# base_model = keras.applications.MobileNetV2(weights=\"imagenet\", include_top=False,input_shape=(224,224,3))\n",
    "# base_model = keras.applications.EfficientNetB7(weights=\"imagenet\", include_top=False,input_shape=(224,224,3))\n",
    "\n",
    "\n",
    "base_model.trainable = False\n",
    "\n",
    "\n",
    "inputs = keras.Input(shape=(224,224,3))\n",
    "# inputs = keras.Input(shape=(299,299,3))\n",
    "\n",
    "\n",
    "x = base_model(inputs, training=False)\n",
    "\n",
    "x = keras.layers.GlobalAveragePooling2D()(x)\n",
    "# # x = keras.layers.Flatten()(x)\n",
    "# x = keras.layers.Dropout(0.2)(x)\n",
    "# x = keras.layers.Dense(128, activation='relu',kernel_regularizer=keras.regularizers.L1(0.01))(x)\n",
    "x = keras.layers.Dropout(0.2)(x)\n",
    "x = keras.layers.Dense(32, activation='relu',kernel_regularizer=keras.regularizers.L1(0.01))(x)\n",
    "\n",
    "# x = keras.layers.Dense(8, activation='relu')(x)\n",
    "outputs = keras.layers.Dense(1)(x)\n",
    "\n",
    "model = keras.Model(inputs, outputs)\n",
    "\n",
    "# model.compile(loss='mean_squared_error', optimizer='adam')\n",
    "model.compile(\n",
    "    optimizer='adam',\n",
    "    loss='mse',\n",
    "    metrics=[tf.keras.metrics.RootMeanSquaredError()])"
   ]
  },
  {
   "cell_type": "code",
   "execution_count": 45,
   "id": "5cd047c2",
   "metadata": {
    "ExecuteTime": {
     "end_time": "2022-06-17T01:40:54.308195Z",
     "start_time": "2022-06-17T01:40:54.293390Z"
    }
   },
   "outputs": [
    {
     "name": "stdout",
     "output_type": "stream",
     "text": [
      "Model: \"model_1\"\n",
      "_________________________________________________________________\n",
      " Layer (type)                Output Shape              Param #   \n",
      "=================================================================\n",
      " input_4 (InputLayer)        [(None, 224, 224, 3)]     0         \n",
      "                                                                 \n",
      " resnet50 (Functional)       (None, None, None, 2048)  23587712  \n",
      "                                                                 \n",
      " global_average_pooling2d_1   (None, 2048)             0         \n",
      " (GlobalAveragePooling2D)                                        \n",
      "                                                                 \n",
      " dropout (Dropout)           (None, 2048)              0         \n",
      "                                                                 \n",
      " dense_2 (Dense)             (None, 32)                65568     \n",
      "                                                                 \n",
      " dense_3 (Dense)             (None, 1)                 33        \n",
      "                                                                 \n",
      "=================================================================\n",
      "Total params: 23,653,313\n",
      "Trainable params: 65,601\n",
      "Non-trainable params: 23,587,712\n",
      "_________________________________________________________________\n"
     ]
    }
   ],
   "source": [
    "model.summary()"
   ]
  },
  {
   "cell_type": "markdown",
   "id": "8f54c532",
   "metadata": {},
   "source": [
    "## Read Data"
   ]
  },
  {
   "cell_type": "code",
   "execution_count": 5,
   "id": "06a4852e",
   "metadata": {
    "ExecuteTime": {
     "end_time": "2022-06-17T01:07:47.961299Z",
     "start_time": "2022-06-17T01:07:47.955315Z"
    }
   },
   "outputs": [
    {
     "data": {
      "text/plain": [
       "'/Users/zoey/Dropbox (University of Michigan)/1A_research (organized)/_Ideation/2_InterpretableAI/5_Lab (shared w RA)/2_analysis'"
      ]
     },
     "execution_count": 5,
     "metadata": {},
     "output_type": "execute_result"
    }
   ],
   "source": [
    "os.getcwd()"
   ]
  },
  {
   "cell_type": "code",
   "execution_count": 6,
   "id": "baf3abb7",
   "metadata": {
    "ExecuteTime": {
     "end_time": "2022-06-17T01:08:55.432197Z",
     "start_time": "2022-06-17T01:08:55.422778Z"
    }
   },
   "outputs": [
    {
     "data": {
      "text/html": [
       "<div>\n",
       "<style scoped>\n",
       "    .dataframe tbody tr th:only-of-type {\n",
       "        vertical-align: middle;\n",
       "    }\n",
       "\n",
       "    .dataframe tbody tr th {\n",
       "        vertical-align: top;\n",
       "    }\n",
       "\n",
       "    .dataframe thead th {\n",
       "        text-align: right;\n",
       "    }\n",
       "</style>\n",
       "<table border=\"1\" class=\"dataframe\">\n",
       "  <thead>\n",
       "    <tr style=\"text-align: right;\">\n",
       "      <th></th>\n",
       "      <th>Unnamed: 0</th>\n",
       "      <th>zpid</th>\n",
       "      <th>time</th>\n",
       "      <th>price</th>\n",
       "      <th>week</th>\n",
       "      <th>dow</th>\n",
       "      <th>month</th>\n",
       "      <th>year</th>\n",
       "      <th>latitude</th>\n",
       "      <th>longitude</th>\n",
       "      <th>...</th>\n",
       "      <th>unitCount</th>\n",
       "      <th>stories</th>\n",
       "      <th>lastRemodelYear</th>\n",
       "      <th>solarPotential</th>\n",
       "      <th>zestimate</th>\n",
       "      <th>zestimateHighPercent</th>\n",
       "      <th>zestimateLowPercent</th>\n",
       "      <th>rentZestimate</th>\n",
       "      <th>taxEstimate</th>\n",
       "      <th>n_round</th>\n",
       "    </tr>\n",
       "  </thead>\n",
       "  <tbody>\n",
       "    <tr>\n",
       "      <th>0</th>\n",
       "      <td>15</td>\n",
       "      <td>11252639</td>\n",
       "      <td>2020-07-30</td>\n",
       "      <td>329600</td>\n",
       "      <td>31</td>\n",
       "      <td>Thursday</td>\n",
       "      <td>7</td>\n",
       "      <td>20</td>\n",
       "      <td>40.390975</td>\n",
       "      <td>-80.067424</td>\n",
       "      <td>...</td>\n",
       "      <td>0</td>\n",
       "      <td>1</td>\n",
       "      <td>1959</td>\n",
       "      <td>86.82</td>\n",
       "      <td>388800</td>\n",
       "      <td>8</td>\n",
       "      <td>7</td>\n",
       "      <td>2504</td>\n",
       "      <td>561800</td>\n",
       "      <td>69</td>\n",
       "    </tr>\n",
       "    <tr>\n",
       "      <th>1</th>\n",
       "      <td>18</td>\n",
       "      <td>11252786</td>\n",
       "      <td>2020-11-16</td>\n",
       "      <td>787000</td>\n",
       "      <td>47</td>\n",
       "      <td>Monday</td>\n",
       "      <td>11</td>\n",
       "      <td>20</td>\n",
       "      <td>40.387805</td>\n",
       "      <td>-80.072098</td>\n",
       "      <td>...</td>\n",
       "      <td>0</td>\n",
       "      <td>2</td>\n",
       "      <td>1958</td>\n",
       "      <td>90.02</td>\n",
       "      <td>884800</td>\n",
       "      <td>6</td>\n",
       "      <td>6</td>\n",
       "      <td>3830</td>\n",
       "      <td>722659</td>\n",
       "      <td>69</td>\n",
       "    </tr>\n",
       "    <tr>\n",
       "      <th>2</th>\n",
       "      <td>19</td>\n",
       "      <td>11252802</td>\n",
       "      <td>2020-06-24</td>\n",
       "      <td>504715</td>\n",
       "      <td>26</td>\n",
       "      <td>Wednesday</td>\n",
       "      <td>6</td>\n",
       "      <td>20</td>\n",
       "      <td>40.388525</td>\n",
       "      <td>-80.068769</td>\n",
       "      <td>...</td>\n",
       "      <td>0</td>\n",
       "      <td>1</td>\n",
       "      <td>1948</td>\n",
       "      <td>92.42</td>\n",
       "      <td>600200</td>\n",
       "      <td>8</td>\n",
       "      <td>7</td>\n",
       "      <td>3894</td>\n",
       "      <td>626265</td>\n",
       "      <td>69</td>\n",
       "    </tr>\n",
       "    <tr>\n",
       "      <th>3</th>\n",
       "      <td>20</td>\n",
       "      <td>11253008</td>\n",
       "      <td>2020-06-22</td>\n",
       "      <td>755000</td>\n",
       "      <td>26</td>\n",
       "      <td>Monday</td>\n",
       "      <td>6</td>\n",
       "      <td>20</td>\n",
       "      <td>40.386178</td>\n",
       "      <td>-80.070577</td>\n",
       "      <td>...</td>\n",
       "      <td>0</td>\n",
       "      <td>2</td>\n",
       "      <td>1977</td>\n",
       "      <td>87.62</td>\n",
       "      <td>901300</td>\n",
       "      <td>8</td>\n",
       "      <td>7</td>\n",
       "      <td>5751</td>\n",
       "      <td>1102648</td>\n",
       "      <td>69</td>\n",
       "    </tr>\n",
       "    <tr>\n",
       "      <th>4</th>\n",
       "      <td>21</td>\n",
       "      <td>11253033</td>\n",
       "      <td>2020-10-01</td>\n",
       "      <td>800000</td>\n",
       "      <td>40</td>\n",
       "      <td>Thursday</td>\n",
       "      <td>10</td>\n",
       "      <td>20</td>\n",
       "      <td>40.385030</td>\n",
       "      <td>-80.068198</td>\n",
       "      <td>...</td>\n",
       "      <td>0</td>\n",
       "      <td>2</td>\n",
       "      <td>1953</td>\n",
       "      <td>88.42</td>\n",
       "      <td>918100</td>\n",
       "      <td>7</td>\n",
       "      <td>6</td>\n",
       "      <td>3160</td>\n",
       "      <td>629218</td>\n",
       "      <td>69</td>\n",
       "    </tr>\n",
       "  </tbody>\n",
       "</table>\n",
       "<p>5 rows × 35 columns</p>\n",
       "</div>"
      ],
      "text/plain": [
       "   Unnamed: 0      zpid        time   price  week        dow  month  year  \\\n",
       "0          15  11252639  2020-07-30  329600    31   Thursday      7    20   \n",
       "1          18  11252786  2020-11-16  787000    47     Monday     11    20   \n",
       "2          19  11252802  2020-06-24  504715    26  Wednesday      6    20   \n",
       "3          20  11253008  2020-06-22  755000    26     Monday      6    20   \n",
       "4          21  11253033  2020-10-01  800000    40   Thursday     10    20   \n",
       "\n",
       "    latitude  longitude   ...    unitCount stories  lastRemodelYear  \\\n",
       "0  40.390975 -80.067424   ...            0       1             1959   \n",
       "1  40.387805 -80.072098   ...            0       2             1958   \n",
       "2  40.388525 -80.068769   ...            0       1             1948   \n",
       "3  40.386178 -80.070577   ...            0       2             1977   \n",
       "4  40.385030 -80.068198   ...            0       2             1953   \n",
       "\n",
       "  solarPotential  zestimate  zestimateHighPercent  zestimateLowPercent  \\\n",
       "0          86.82     388800                     8                    7   \n",
       "1          90.02     884800                     6                    6   \n",
       "2          92.42     600200                     8                    7   \n",
       "3          87.62     901300                     8                    7   \n",
       "4          88.42     918100                     7                    6   \n",
       "\n",
       "  rentZestimate  taxEstimate  n_round  \n",
       "0          2504       561800       69  \n",
       "1          3830       722659       69  \n",
       "2          3894       626265       69  \n",
       "3          5751      1102648       69  \n",
       "4          3160       629218       69  \n",
       "\n",
       "[5 rows x 35 columns]"
      ]
     },
     "execution_count": 6,
     "metadata": {},
     "output_type": "execute_result"
    }
   ],
   "source": [
    "df_data=pd.read_csv('df_selected_final.csv',sep=',',header=0)\n",
    "df_data.head()"
   ]
  },
  {
   "cell_type": "code",
   "execution_count": 7,
   "id": "04793346",
   "metadata": {
    "ExecuteTime": {
     "end_time": "2022-06-17T01:09:12.936589Z",
     "start_time": "2022-06-17T01:09:12.923029Z"
    }
   },
   "outputs": [
    {
     "data": {
      "text/plain": [
       "(853, 35)"
      ]
     },
     "execution_count": 7,
     "metadata": {},
     "output_type": "execute_result"
    }
   ],
   "source": [
    "df_data.shape"
   ]
  },
  {
   "cell_type": "code",
   "execution_count": 21,
   "id": "e99138fb",
   "metadata": {
    "ExecuteTime": {
     "end_time": "2022-06-17T01:17:36.561514Z",
     "start_time": "2022-06-17T01:17:36.524801Z"
    }
   },
   "outputs": [],
   "source": [
    "import glob\n",
    "\n",
    "list_all_pic=glob.glob('../1_images/*/0*.jp*')+glob.glob('../1_images/*/*/0*.jp*')+ glob.glob('../1_images/*/*/*/0*.jp*')\n",
    "list_all_pic_filtered=[i for i in list_all_pic if ('_' not in i.split('/')[-2]) and ('nan' not in i.split('/')[-2])]\n",
    "dict_zpid_pic_path={int(i.split('/')[-2]):i for i in list_all_pic_filtered}\n",
    "len(list_all_pic),len(list_all_pic_filtered)\n"
   ]
  },
  {
   "cell_type": "code",
   "execution_count": 24,
   "id": "dbd3658b",
   "metadata": {
    "ExecuteTime": {
     "end_time": "2022-06-17T01:23:39.989893Z",
     "start_time": "2022-06-17T01:23:39.986843Z"
    }
   },
   "outputs": [],
   "source": [
    "df_data['pic_path']=df_data['zpid'].apply(lambda x: dict_zpid_pic_path[x] if x in dict_zpid_pic_path else \"NA\")\n",
    "df_data_filtered=df_data[df_data['pic_path']!='NA']\n",
    "df_data_filtered.shape"
   ]
  },
  {
   "cell_type": "code",
   "execution_count": 28,
   "id": "db98dc04",
   "metadata": {
    "ExecuteTime": {
     "end_time": "2022-06-17T01:28:39.862088Z",
     "start_time": "2022-06-17T01:28:39.859409Z"
    }
   },
   "outputs": [
    {
     "name": "stderr",
     "output_type": "stream",
     "text": [
      "/var/folders/bz/852ln1kj2073x6xn7tlhct840000gn/T/ipykernel_29035/3301692784.py:1: SettingWithCopyWarning: \n",
      "A value is trying to be set on a copy of a slice from a DataFrame.\n",
      "Try using .loc[row_indexer,col_indexer] = value instead\n",
      "\n",
      "See the caveats in the documentation: https://pandas.pydata.org/pandas-docs/stable/user_guide/indexing.html#returning-a-view-versus-a-copy\n",
      "  df_data_filtered['price_log'] = df_data_filtered['price'].apply(np.log)\n"
     ]
    }
   ],
   "source": [
    "df_data_filtered['price_log'] = df_data_filtered['price'].apply(np.log)"
   ]
  },
  {
   "cell_type": "markdown",
   "id": "5fcf8b50",
   "metadata": {},
   "source": [
    "## Pre-process"
   ]
  },
  {
   "cell_type": "code",
   "execution_count": 27,
   "id": "e55d5dbb",
   "metadata": {
    "ExecuteTime": {
     "end_time": "2022-06-17T01:25:49.123068Z",
     "start_time": "2022-06-17T01:25:45.366368Z"
    }
   },
   "outputs": [],
   "source": [
    "images=[keras.preprocessing.image.load_img(i, target_size=(224, 224)) for i in df_data_filtered['pic_path']]\n",
    "# images=[keras.preprocessing.image.load_img(i, target_size=(299, 299)) for i in df_data_filtered['pic_path']]\n",
    "images=[keras.preprocessing.image.img_to_array(i) for i in images]\n",
    "images=np.array(images)\n",
    "# image = np.expand_dims(image, axis=0)\n",
    "images = keras.applications.resnet50.preprocess_input(images)\n",
    "# images = keras.applications.xception.preprocess_input(images)\n",
    "# images = keras.applications.mobilenet_v2.preprocess_input(images)\n",
    "# images = keras.applications.efficientnet.preprocess_input(images)\n"
   ]
  },
  {
   "cell_type": "code",
   "execution_count": 29,
   "id": "c91d608a",
   "metadata": {
    "ExecuteTime": {
     "end_time": "2022-06-17T01:29:04.699073Z",
     "start_time": "2022-06-17T01:29:04.049429Z"
    }
   },
   "outputs": [],
   "source": [
    "from sklearn.model_selection import train_test_split\n",
    "from sklearn import preprocessing\n",
    "\n",
    "# train_imgs=images[:-50]\n",
    "# val_imgs=images[-50:]\n",
    "# # train_price=np.array(df_data_filtered['price'].tolist()[:-50])/1e5\n",
    "# # val_price=np.array(df_data_filtered['price'].tolist()[-50:])/1e5\n",
    "# train_price=np.array(df_data_filtered['price'].tolist()[:-50])/1e6\n",
    "# val_price=np.array(df_data_filtered['price'].tolist()[-50:])/1e6\n",
    "\n",
    "train_imgs, val_imgs, train_price, val_price = train_test_split(images, \n",
    "                                                                np.array(df_data_filtered['price_log'].tolist())/1e6,\n",
    "                                                                test_size=0.3, random_state=66)\n",
    "standard_scaler = preprocessing.StandardScaler()\n",
    "train_price = standard_scaler.fit_transform(train_price.reshape(-1, 1))\n",
    "val_price = standard_scaler.transform(val_price.reshape(-1, 1))\n",
    "\n",
    "# min_max_scaler = preprocessing.MinMaxScaler()\n",
    "# train_price = min_max_scaler.fit_transform(train_price.reshape(-1, 1))\n",
    "# val_price = min_max_scaler.transform(val_price.reshape(-1, 1))"
   ]
  },
  {
   "cell_type": "code",
   "execution_count": 30,
   "id": "0be2477f",
   "metadata": {
    "ExecuteTime": {
     "end_time": "2022-06-17T01:29:05.570948Z",
     "start_time": "2022-06-17T01:29:05.568134Z"
    }
   },
   "outputs": [
    {
     "data": {
      "text/plain": [
       "array([2.76680365])"
      ]
     },
     "execution_count": 30,
     "metadata": {},
     "output_type": "execute_result"
    }
   ],
   "source": [
    "max(train_price)"
   ]
  },
  {
   "cell_type": "markdown",
   "id": "aa95a761",
   "metadata": {},
   "source": [
    "## Model Training"
   ]
  },
  {
   "cell_type": "code",
   "execution_count": 46,
   "id": "a6512495",
   "metadata": {
    "ExecuteTime": {
     "end_time": "2022-06-17T01:52:37.952505Z",
     "start_time": "2022-06-17T01:41:26.397200Z"
    }
   },
   "outputs": [
    {
     "name": "stdout",
     "output_type": "stream",
     "text": [
      "Epoch 1/50\n",
      "16/16 [==============================] - 20s 1s/step - loss: 19.6124 - root_mean_squared_error: 1.6301 - val_loss: 16.8458 - val_root_mean_squared_error: 1.0093\n",
      "Epoch 2/50\n",
      "16/16 [==============================] - 18s 1s/step - loss: 15.7553 - root_mean_squared_error: 0.9991 - val_loss: 14.4883 - val_root_mean_squared_error: 1.0089\n",
      "Epoch 3/50\n",
      "16/16 [==============================] - 18s 1s/step - loss: 13.4530 - root_mean_squared_error: 0.9999 - val_loss: 12.3198 - val_root_mean_squared_error: 1.0089\n",
      "Epoch 4/50\n",
      "16/16 [==============================] - 18s 1s/step - loss: 11.4700 - root_mean_squared_error: 1.0000 - val_loss: 10.5524 - val_root_mean_squared_error: 1.0088\n",
      "Epoch 5/50\n",
      "16/16 [==============================] - 18s 1s/step - loss: 9.8374 - root_mean_squared_error: 0.9985 - val_loss: 9.0750 - val_root_mean_squared_error: 1.0088\n",
      "Epoch 6/50\n",
      "16/16 [==============================] - 18s 1s/step - loss: 8.4791 - root_mean_squared_error: 0.9962 - val_loss: 7.8399 - val_root_mean_squared_error: 0.9942\n",
      "Epoch 7/50\n",
      "16/16 [==============================] - 18s 1s/step - loss: 7.3091 - root_mean_squared_error: 0.9636 - val_loss: 6.7432 - val_root_mean_squared_error: 0.9461\n",
      "Epoch 8/50\n",
      "16/16 [==============================] - 18s 1s/step - loss: 6.3227 - root_mean_squared_error: 0.9319 - val_loss: 5.8733 - val_root_mean_squared_error: 0.9295\n",
      "Epoch 9/50\n",
      "16/16 [==============================] - 18s 1s/step - loss: 5.5067 - root_mean_squared_error: 0.9050 - val_loss: 5.1717 - val_root_mean_squared_error: 0.9208\n",
      "Epoch 10/50\n",
      "16/16 [==============================] - 18s 1s/step - loss: 4.8357 - root_mean_squared_error: 0.8833 - val_loss: 4.6044 - val_root_mean_squared_error: 0.9263\n",
      "Epoch 11/50\n",
      "16/16 [==============================] - 18s 1s/step - loss: 4.3021 - root_mean_squared_error: 0.8820 - val_loss: 4.1037 - val_root_mean_squared_error: 0.9173\n",
      "Epoch 12/50\n",
      "16/16 [==============================] - 18s 1s/step - loss: 3.8086 - root_mean_squared_error: 0.8615 - val_loss: 3.6630 - val_root_mean_squared_error: 0.9072\n",
      "Epoch 13/50\n",
      "16/16 [==============================] - 18s 1s/step - loss: 3.3930 - root_mean_squared_error: 0.8477 - val_loss: 3.3386 - val_root_mean_squared_error: 0.9186\n",
      "Epoch 14/50\n",
      "16/16 [==============================] - 18s 1s/step - loss: 3.0648 - root_mean_squared_error: 0.8387 - val_loss: 3.0283 - val_root_mean_squared_error: 0.9091\n",
      "Epoch 15/50\n",
      "16/16 [==============================] - 18s 1s/step - loss: 2.7494 - root_mean_squared_error: 0.8161 - val_loss: 2.7735 - val_root_mean_squared_error: 0.9080\n",
      "Epoch 16/50\n",
      "16/16 [==============================] - 18s 1s/step - loss: 2.5176 - root_mean_squared_error: 0.8144 - val_loss: 2.5545 - val_root_mean_squared_error: 0.9043\n",
      "Epoch 17/50\n",
      "16/16 [==============================] - 18s 1s/step - loss: 2.2934 - root_mean_squared_error: 0.8005 - val_loss: 2.3649 - val_root_mean_squared_error: 0.8978\n",
      "Epoch 18/50\n",
      "16/16 [==============================] - 18s 1s/step - loss: 2.1253 - root_mean_squared_error: 0.7974 - val_loss: 2.2184 - val_root_mean_squared_error: 0.9001\n",
      "Epoch 19/50\n",
      "16/16 [==============================] - 18s 1s/step - loss: 1.9870 - root_mean_squared_error: 0.7983 - val_loss: 2.0975 - val_root_mean_squared_error: 0.9013\n",
      "Epoch 20/50\n",
      "16/16 [==============================] - 18s 1s/step - loss: 1.8677 - root_mean_squared_error: 0.7902 - val_loss: 2.0597 - val_root_mean_squared_error: 0.9285\n",
      "Epoch 21/50\n",
      "16/16 [==============================] - 18s 1s/step - loss: 1.7903 - root_mean_squared_error: 0.7984 - val_loss: 1.9108 - val_root_mean_squared_error: 0.8928\n",
      "Epoch 22/50\n",
      "16/16 [==============================] - 18s 1s/step - loss: 1.7159 - root_mean_squared_error: 0.7891 - val_loss: 1.8221 - val_root_mean_squared_error: 0.8844\n",
      "Epoch 23/50\n",
      "16/16 [==============================] - 18s 1s/step - loss: 1.5926 - root_mean_squared_error: 0.7701 - val_loss: 1.9175 - val_root_mean_squared_error: 0.9679\n",
      "Epoch 24/50\n",
      "16/16 [==============================] - 18s 1s/step - loss: 1.5235 - root_mean_squared_error: 0.7681 - val_loss: 1.6503 - val_root_mean_squared_error: 0.8795\n",
      "Epoch 25/50\n",
      "16/16 [==============================] - 18s 1s/step - loss: 1.4692 - root_mean_squared_error: 0.7874 - val_loss: 1.7720 - val_root_mean_squared_error: 0.9677\n",
      "Epoch 26/50\n",
      "16/16 [==============================] - 18s 1s/step - loss: 1.4215 - root_mean_squared_error: 0.7748 - val_loss: 1.5758 - val_root_mean_squared_error: 0.8869\n",
      "Epoch 27/50\n",
      "16/16 [==============================] - 18s 1s/step - loss: 1.3704 - root_mean_squared_error: 0.7782 - val_loss: 1.5559 - val_root_mean_squared_error: 0.9081\n",
      "Epoch 28/50\n",
      "16/16 [==============================] - 18s 1s/step - loss: 1.2525 - root_mean_squared_error: 0.7380 - val_loss: 1.4872 - val_root_mean_squared_error: 0.8954\n",
      "Epoch 29/50\n",
      "16/16 [==============================] - 18s 1s/step - loss: 1.2378 - root_mean_squared_error: 0.7435 - val_loss: 1.4432 - val_root_mean_squared_error: 0.8754\n",
      "Epoch 30/50\n",
      "16/16 [==============================] - 18s 1s/step - loss: 1.2274 - root_mean_squared_error: 0.7566 - val_loss: 1.4075 - val_root_mean_squared_error: 0.8870\n",
      "Epoch 31/50\n",
      "16/16 [==============================] - 18s 1s/step - loss: 1.1405 - root_mean_squared_error: 0.7274 - val_loss: 1.3571 - val_root_mean_squared_error: 0.8749\n",
      "Epoch 32/50\n",
      "16/16 [==============================] - 18s 1s/step - loss: 1.1350 - root_mean_squared_error: 0.7399 - val_loss: 1.3318 - val_root_mean_squared_error: 0.8596\n",
      "Epoch 33/50\n",
      "16/16 [==============================] - 18s 1s/step - loss: 1.1264 - root_mean_squared_error: 0.7289 - val_loss: 1.4367 - val_root_mean_squared_error: 0.9228\n",
      "Epoch 34/50\n",
      "16/16 [==============================] - 18s 1s/step - loss: 1.1063 - root_mean_squared_error: 0.7348 - val_loss: 1.2996 - val_root_mean_squared_error: 0.8743\n",
      "Epoch 35/50\n",
      "16/16 [==============================] - 18s 1s/step - loss: 1.0710 - root_mean_squared_error: 0.7372 - val_loss: 1.3426 - val_root_mean_squared_error: 0.8940\n",
      "Epoch 36/50\n",
      "16/16 [==============================] - 18s 1s/step - loss: 1.0487 - root_mean_squared_error: 0.7233 - val_loss: 1.3281 - val_root_mean_squared_error: 0.9066\n",
      "Epoch 37/50\n",
      "16/16 [==============================] - 18s 1s/step - loss: 1.0110 - root_mean_squared_error: 0.7116 - val_loss: 1.2599 - val_root_mean_squared_error: 0.8744\n"
     ]
    }
   ],
   "source": [
    "history = model.fit(x=train_imgs, y=train_price,\n",
    "                    validation_data=(val_imgs, val_price),\n",
    "                    batch_size=30,\n",
    "                    epochs=50,\n",
    "                    callbacks=[keras.callbacks.EarlyStopping(monitor='val_root_mean_squared_error', patience=5)],\n",
    "                    verbose=1)"
   ]
  },
  {
   "cell_type": "code",
   "execution_count": 221,
   "id": "7f2c0c9b",
   "metadata": {
    "ExecuteTime": {
     "end_time": "2022-06-08T21:07:01.459261Z",
     "start_time": "2022-06-08T21:07:01.455626Z"
    }
   },
   "outputs": [],
   "source": [
    "# for ind,i in enumerate(predict_prices):\n",
    "#     print(\"%.3f\" % i[0],val_price[ind])"
   ]
  },
  {
   "cell_type": "markdown",
   "id": "20938a7f",
   "metadata": {},
   "source": [
    "## Results explore"
   ]
  },
  {
   "cell_type": "code",
   "execution_count": 47,
   "id": "fc1ca474",
   "metadata": {
    "ExecuteTime": {
     "end_time": "2022-06-17T01:53:54.082320Z",
     "start_time": "2022-06-17T01:53:47.803385Z"
    }
   },
   "outputs": [
    {
     "name": "stdout",
     "output_type": "stream",
     "text": [
      "7/7 [==============================] - 6s 782ms/step\n"
     ]
    },
    {
     "data": {
      "text/plain": [
       "<AxesSubplot:>"
      ]
     },
     "execution_count": 47,
     "metadata": {},
     "output_type": "execute_result"
    },
    {
     "data": {
      "image/png": "[encoded data removed]",
      "text/plain": [
       "<Figure size 432x288 with 1 Axes>"
      ]
     },
     "metadata": {
      "needs_background": "light"
     },
     "output_type": "display_data"
    }
   ],
   "source": [
    "import seaborn as sns\n",
    "\n",
    "predict_prices=model.predict(val_imgs)\n",
    "sns.scatterplot(y=predict_prices.flatten(),x=val_price.flatten())"
   ]
  },
  {
   "cell_type": "code",
   "execution_count": 38,
   "id": "a381b64b",
   "metadata": {
    "ExecuteTime": {
     "end_time": "2022-06-17T01:38:22.416375Z",
     "start_time": "2022-06-17T01:38:22.414529Z"
    }
   },
   "outputs": [],
   "source": [
    "#sns.scatterplot(y=np.exp(predict_prices.flatten()),x=np.exp(val_price.flatten()))"
   ]
  },
  {
   "cell_type": "code",
   "execution_count": 48,
   "id": "6d8d8399",
   "metadata": {
    "ExecuteTime": {
     "end_time": "2022-06-17T01:53:57.501426Z",
     "start_time": "2022-06-17T01:53:57.497670Z"
    }
   },
   "outputs": [
    {
     "data": {
      "text/plain": [
       "4.264459810798151"
      ]
     },
     "execution_count": 48,
     "metadata": {},
     "output_type": "execute_result"
    }
   ],
   "source": [
    "np.mean(abs(predict_prices.flatten() - val_price.flatten())/abs(val_price.flatten()))"
   ]
  },
  {
   "cell_type": "code",
   "execution_count": 49,
   "id": "c0844868",
   "metadata": {
    "ExecuteTime": {
     "end_time": "2022-06-17T01:53:59.001969Z",
     "start_time": "2022-06-17T01:53:58.998528Z"
    }
   },
   "outputs": [
    {
     "data": {
      "text/plain": [
       "0.7253081359921483"
      ]
     },
     "execution_count": 49,
     "metadata": {},
     "output_type": "execute_result"
    }
   ],
   "source": [
    "np.mean(abs(np.exp(predict_prices.flatten()) - np.exp(val_price.flatten()))/abs(np.exp(val_price.flatten())))"
   ]
  },
  {
   "cell_type": "code",
   "execution_count": 50,
   "id": "8c89d9ee",
   "metadata": {
    "ExecuteTime": {
     "end_time": "2022-06-17T01:54:03.494633Z",
     "start_time": "2022-06-17T01:54:03.491344Z"
    }
   },
   "outputs": [
    {
     "data": {
      "text/plain": [
       "(0.5064909584515412, 1.7055982339520176e-14)"
      ]
     },
     "execution_count": 50,
     "metadata": {},
     "output_type": "execute_result"
    }
   ],
   "source": [
    "scipy.stats.pearsonr(predict_prices.flatten(),val_price.flatten())"
   ]
  },
  {
   "cell_type": "code",
   "execution_count": 51,
   "id": "d0653582",
   "metadata": {
    "ExecuteTime": {
     "end_time": "2022-06-17T01:54:18.347860Z",
     "start_time": "2022-06-17T01:54:05.868122Z"
    }
   },
   "outputs": [
    {
     "name": "stdout",
     "output_type": "stream",
     "text": [
      "15/15 [==============================] - 12s 821ms/step\n"
     ]
    },
    {
     "data": {
      "text/plain": [
       "<AxesSubplot:>"
      ]
     },
     "execution_count": 51,
     "metadata": {},
     "output_type": "execute_result"
    },
    {
     "data": {
      "image/png": "[encoded data removed]",
      "text/plain": [
       "<Figure size 432x288 with 1 Axes>"
      ]
     },
     "metadata": {
      "needs_background": "light"
     },
     "output_type": "display_data"
    }
   ],
   "source": [
    "predict_prices=model.predict(train_imgs)\n",
    "\n",
    "sns.scatterplot(y=predict_prices.flatten(),x=train_price.flatten())"
   ]
  },
  {
   "cell_type": "code",
   "execution_count": 52,
   "id": "e760f923",
   "metadata": {
    "ExecuteTime": {
     "end_time": "2022-06-17T01:54:20.261284Z",
     "start_time": "2022-06-17T01:54:20.258080Z"
    },
    "scrolled": true
   },
   "outputs": [
    {
     "data": {
      "text/plain": [
       "1.8273510339370604"
      ]
     },
     "execution_count": 52,
     "metadata": {},
     "output_type": "execute_result"
    }
   ],
   "source": [
    "np.mean(abs(predict_prices.flatten() - train_price.flatten())/abs(train_price.flatten()))"
   ]
  },
  {
   "cell_type": "code",
   "execution_count": 53,
   "id": "9c88c678",
   "metadata": {
    "ExecuteTime": {
     "end_time": "2022-06-17T01:54:22.002640Z",
     "start_time": "2022-06-17T01:54:21.999136Z"
    }
   },
   "outputs": [
    {
     "data": {
      "text/plain": [
       "0.5843214316430447"
      ]
     },
     "execution_count": 53,
     "metadata": {},
     "output_type": "execute_result"
    }
   ],
   "source": [
    "np.mean(abs(np.exp(predict_prices.flatten()) - np.exp(train_price.flatten()))/abs(np.exp(train_price.flatten())))"
   ]
  },
  {
   "cell_type": "code",
   "execution_count": 54,
   "id": "c6fe954b",
   "metadata": {
    "ExecuteTime": {
     "end_time": "2022-06-17T01:54:25.830571Z",
     "start_time": "2022-06-17T01:54:25.827557Z"
    }
   },
   "outputs": [
    {
     "data": {
      "text/plain": [
       "(0.7686387312027855, 4.464703971682863e-92)"
      ]
     },
     "execution_count": 54,
     "metadata": {},
     "output_type": "execute_result"
    }
   ],
   "source": [
    "scipy.stats.pearsonr(predict_prices.flatten(),train_price.flatten())"
   ]
  },
  {
   "cell_type": "code",
   "execution_count": null,
   "id": "8f5e4f3f",
   "metadata": {},
   "outputs": [],
   "source": []
  },
  {
   "cell_type": "markdown",
   "id": "b7396f42",
   "metadata": {},
   "source": [
    "## Output layer information"
   ]
  },
  {
   "cell_type": "code",
   "execution_count": 56,
   "id": "62b2eed9",
   "metadata": {
    "ExecuteTime": {
     "end_time": "2022-06-17T02:02:20.970965Z",
     "start_time": "2022-06-17T02:02:20.967008Z"
    }
   },
   "outputs": [],
   "source": [
    "layer_name = 'dense_2'\n",
    "intermediate_layer_model = keras.Model(inputs=model.input,\n",
    "                                       outputs=model.get_layer(layer_name).output)\n",
    "\n"
   ]
  },
  {
   "cell_type": "code",
   "execution_count": 57,
   "id": "321ddf0c",
   "metadata": {
    "ExecuteTime": {
     "end_time": "2022-06-17T02:02:49.193875Z",
     "start_time": "2022-06-17T02:02:24.323145Z"
    }
   },
   "outputs": [],
   "source": [
    "intermediate_output = intermediate_layer_model(images)\n"
   ]
  },
  {
   "cell_type": "code",
   "execution_count": 58,
   "id": "4eebfadf",
   "metadata": {
    "ExecuteTime": {
     "end_time": "2022-06-17T02:02:59.990169Z",
     "start_time": "2022-06-17T02:02:59.987540Z"
    }
   },
   "outputs": [
    {
     "data": {
      "text/plain": [
       "TensorShape([667, 32])"
      ]
     },
     "execution_count": 58,
     "metadata": {},
     "output_type": "execute_result"
    }
   ],
   "source": [
    "intermediate_output.shape"
   ]
  },
  {
   "cell_type": "code",
   "execution_count": 65,
   "id": "f57cce55",
   "metadata": {
    "ExecuteTime": {
     "end_time": "2022-06-17T02:07:48.168861Z",
     "start_time": "2022-06-17T02:07:48.166192Z"
    }
   },
   "outputs": [],
   "source": [
    "df_out_feature=pd.DataFrame(np.array(intermediate_output),index=df_data_filtered['zpid'].to_list(),columns=['feature_%d' % i for i in range(1,33)])"
   ]
  },
  {
   "cell_type": "code",
   "execution_count": 76,
   "id": "59845495",
   "metadata": {
    "ExecuteTime": {
     "end_time": "2022-06-17T02:15:17.819830Z",
     "start_time": "2022-06-17T02:15:17.803934Z"
    }
   },
   "outputs": [
    {
     "data": {
      "text/html": [
       "<div>\n",
       "<style scoped>\n",
       "    .dataframe tbody tr th:only-of-type {\n",
       "        vertical-align: middle;\n",
       "    }\n",
       "\n",
       "    .dataframe tbody tr th {\n",
       "        vertical-align: top;\n",
       "    }\n",
       "\n",
       "    .dataframe thead th {\n",
       "        text-align: right;\n",
       "    }\n",
       "</style>\n",
       "<table border=\"1\" class=\"dataframe\">\n",
       "  <thead>\n",
       "    <tr style=\"text-align: right;\">\n",
       "      <th></th>\n",
       "      <th>feature_1</th>\n",
       "      <th>feature_2</th>\n",
       "      <th>feature_3</th>\n",
       "      <th>feature_4</th>\n",
       "      <th>feature_5</th>\n",
       "      <th>feature_6</th>\n",
       "      <th>feature_7</th>\n",
       "      <th>feature_8</th>\n",
       "      <th>feature_9</th>\n",
       "      <th>feature_10</th>\n",
       "      <th>...</th>\n",
       "      <th>feature_24</th>\n",
       "      <th>feature_25</th>\n",
       "      <th>feature_26</th>\n",
       "      <th>feature_27</th>\n",
       "      <th>feature_28</th>\n",
       "      <th>feature_29</th>\n",
       "      <th>feature_30</th>\n",
       "      <th>feature_31</th>\n",
       "      <th>feature_32</th>\n",
       "      <th>zpid</th>\n",
       "    </tr>\n",
       "  </thead>\n",
       "  <tbody>\n",
       "    <tr>\n",
       "      <th>11252639</th>\n",
       "      <td>0.0</td>\n",
       "      <td>0.0</td>\n",
       "      <td>0.0</td>\n",
       "      <td>0.0</td>\n",
       "      <td>0.0</td>\n",
       "      <td>0.0</td>\n",
       "      <td>0.378165</td>\n",
       "      <td>0.016716</td>\n",
       "      <td>0.0</td>\n",
       "      <td>0.0</td>\n",
       "      <td>...</td>\n",
       "      <td>0.0</td>\n",
       "      <td>0.0</td>\n",
       "      <td>0.0</td>\n",
       "      <td>5.599988</td>\n",
       "      <td>0.0</td>\n",
       "      <td>2.597314</td>\n",
       "      <td>0.0</td>\n",
       "      <td>0.0</td>\n",
       "      <td>0.0</td>\n",
       "      <td>11252639</td>\n",
       "    </tr>\n",
       "    <tr>\n",
       "      <th>11252786</th>\n",
       "      <td>0.0</td>\n",
       "      <td>0.0</td>\n",
       "      <td>0.0</td>\n",
       "      <td>0.0</td>\n",
       "      <td>0.0</td>\n",
       "      <td>0.0</td>\n",
       "      <td>0.648060</td>\n",
       "      <td>0.000000</td>\n",
       "      <td>0.0</td>\n",
       "      <td>0.0</td>\n",
       "      <td>...</td>\n",
       "      <td>0.0</td>\n",
       "      <td>0.0</td>\n",
       "      <td>0.0</td>\n",
       "      <td>5.091343</td>\n",
       "      <td>0.0</td>\n",
       "      <td>3.047146</td>\n",
       "      <td>0.0</td>\n",
       "      <td>0.0</td>\n",
       "      <td>0.0</td>\n",
       "      <td>11252786</td>\n",
       "    </tr>\n",
       "    <tr>\n",
       "      <th>11252802</th>\n",
       "      <td>0.0</td>\n",
       "      <td>0.0</td>\n",
       "      <td>0.0</td>\n",
       "      <td>0.0</td>\n",
       "      <td>0.0</td>\n",
       "      <td>0.0</td>\n",
       "      <td>0.580727</td>\n",
       "      <td>0.000000</td>\n",
       "      <td>0.0</td>\n",
       "      <td>0.0</td>\n",
       "      <td>...</td>\n",
       "      <td>0.0</td>\n",
       "      <td>0.0</td>\n",
       "      <td>0.0</td>\n",
       "      <td>5.604352</td>\n",
       "      <td>0.0</td>\n",
       "      <td>2.958225</td>\n",
       "      <td>0.0</td>\n",
       "      <td>0.0</td>\n",
       "      <td>0.0</td>\n",
       "      <td>11252802</td>\n",
       "    </tr>\n",
       "    <tr>\n",
       "      <th>11253008</th>\n",
       "      <td>0.0</td>\n",
       "      <td>0.0</td>\n",
       "      <td>0.0</td>\n",
       "      <td>0.0</td>\n",
       "      <td>0.0</td>\n",
       "      <td>0.0</td>\n",
       "      <td>0.181797</td>\n",
       "      <td>0.000000</td>\n",
       "      <td>0.0</td>\n",
       "      <td>0.0</td>\n",
       "      <td>...</td>\n",
       "      <td>0.0</td>\n",
       "      <td>0.0</td>\n",
       "      <td>0.0</td>\n",
       "      <td>4.711068</td>\n",
       "      <td>0.0</td>\n",
       "      <td>4.313328</td>\n",
       "      <td>0.0</td>\n",
       "      <td>0.0</td>\n",
       "      <td>0.0</td>\n",
       "      <td>11253008</td>\n",
       "    </tr>\n",
       "    <tr>\n",
       "      <th>11253033</th>\n",
       "      <td>0.0</td>\n",
       "      <td>0.0</td>\n",
       "      <td>0.0</td>\n",
       "      <td>0.0</td>\n",
       "      <td>0.0</td>\n",
       "      <td>0.0</td>\n",
       "      <td>0.109157</td>\n",
       "      <td>0.000000</td>\n",
       "      <td>0.0</td>\n",
       "      <td>0.0</td>\n",
       "      <td>...</td>\n",
       "      <td>0.0</td>\n",
       "      <td>0.0</td>\n",
       "      <td>0.0</td>\n",
       "      <td>5.789567</td>\n",
       "      <td>0.0</td>\n",
       "      <td>2.809074</td>\n",
       "      <td>0.0</td>\n",
       "      <td>0.0</td>\n",
       "      <td>0.0</td>\n",
       "      <td>11253033</td>\n",
       "    </tr>\n",
       "  </tbody>\n",
       "</table>\n",
       "<p>5 rows × 33 columns</p>\n",
       "</div>"
      ],
      "text/plain": [
       "          feature_1  feature_2  feature_3  feature_4  feature_5  feature_6  \\\n",
       "11252639        0.0        0.0        0.0        0.0        0.0        0.0   \n",
       "11252786        0.0        0.0        0.0        0.0        0.0        0.0   \n",
       "11252802        0.0        0.0        0.0        0.0        0.0        0.0   \n",
       "11253008        0.0        0.0        0.0        0.0        0.0        0.0   \n",
       "11253033        0.0        0.0        0.0        0.0        0.0        0.0   \n",
       "\n",
       "          feature_7  feature_8  feature_9  feature_10  ...  feature_24  \\\n",
       "11252639   0.378165   0.016716        0.0         0.0  ...         0.0   \n",
       "11252786   0.648060   0.000000        0.0         0.0  ...         0.0   \n",
       "11252802   0.580727   0.000000        0.0         0.0  ...         0.0   \n",
       "11253008   0.181797   0.000000        0.0         0.0  ...         0.0   \n",
       "11253033   0.109157   0.000000        0.0         0.0  ...         0.0   \n",
       "\n",
       "          feature_25  feature_26  feature_27  feature_28  feature_29  \\\n",
       "11252639         0.0         0.0    5.599988         0.0    2.597314   \n",
       "11252786         0.0         0.0    5.091343         0.0    3.047146   \n",
       "11252802         0.0         0.0    5.604352         0.0    2.958225   \n",
       "11253008         0.0         0.0    4.711068         0.0    4.313328   \n",
       "11253033         0.0         0.0    5.789567         0.0    2.809074   \n",
       "\n",
       "          feature_30  feature_31  feature_32      zpid  \n",
       "11252639         0.0         0.0         0.0  11252639  \n",
       "11252786         0.0         0.0         0.0  11252786  \n",
       "11252802         0.0         0.0         0.0  11252802  \n",
       "11253008         0.0         0.0         0.0  11253008  \n",
       "11253033         0.0         0.0         0.0  11253033  \n",
       "\n",
       "[5 rows x 33 columns]"
      ]
     },
     "execution_count": 76,
     "metadata": {},
     "output_type": "execute_result"
    }
   ],
   "source": [
    "df_out_feature.head()"
   ]
  },
  {
   "cell_type": "code",
   "execution_count": 68,
   "id": "e38f3d03",
   "metadata": {
    "ExecuteTime": {
     "end_time": "2022-06-17T02:08:31.396319Z",
     "start_time": "2022-06-17T02:08:31.392758Z"
    }
   },
   "outputs": [
    {
     "data": {
      "text/plain": [
       "array([0.], dtype=float32)"
      ]
     },
     "execution_count": 68,
     "metadata": {},
     "output_type": "execute_result"
    }
   ],
   "source": [
    "df_out_feature['feature_2'].unique()"
   ]
  },
  {
   "cell_type": "code",
   "execution_count": 75,
   "id": "bd36cbaa",
   "metadata": {
    "ExecuteTime": {
     "end_time": "2022-06-17T02:15:14.107069Z",
     "start_time": "2022-06-17T02:15:14.104660Z"
    }
   },
   "outputs": [],
   "source": [
    "df_out_feature['zpid']=df_out_feature.index"
   ]
  },
  {
   "cell_type": "code",
   "execution_count": 77,
   "id": "6de32f4f",
   "metadata": {
    "ExecuteTime": {
     "end_time": "2022-06-17T02:15:26.556579Z",
     "start_time": "2022-06-17T02:15:26.543248Z"
    }
   },
   "outputs": [],
   "source": [
    "df_out_feature.to_csv('TL_features.csv',sep=',',header=True,index=False)"
   ]
  },
  {
   "cell_type": "code",
   "execution_count": 72,
   "id": "8e9305bd",
   "metadata": {
    "ExecuteTime": {
     "end_time": "2022-06-17T02:10:14.393543Z",
     "start_time": "2022-06-17T02:10:14.357364Z"
    }
   },
   "outputs": [],
   "source": [
    "df_temp=df_out_feature.describe()"
   ]
  },
  {
   "cell_type": "code",
   "execution_count": 74,
   "id": "30baf455",
   "metadata": {
    "ExecuteTime": {
     "end_time": "2022-06-17T02:12:41.250467Z",
     "start_time": "2022-06-17T02:12:41.246823Z"
    }
   },
   "outputs": [
    {
     "data": {
      "text/plain": [
       "feature_1     0.000000\n",
       "feature_2     0.000000\n",
       "feature_3     0.000000\n",
       "feature_4     0.011571\n",
       "feature_5     0.000000\n",
       "feature_6     0.001394\n",
       "feature_7     0.237315\n",
       "feature_8     0.116939\n",
       "feature_9     0.092806\n",
       "feature_10    0.000000\n",
       "feature_11    0.000000\n",
       "feature_12    0.147738\n",
       "feature_13    0.000000\n",
       "feature_14    0.000000\n",
       "feature_15    0.218861\n",
       "feature_16    0.098243\n",
       "feature_17    0.000000\n",
       "feature_18    0.000257\n",
       "feature_19    0.000000\n",
       "feature_20    0.000000\n",
       "feature_21    0.000000\n",
       "feature_22    0.000000\n",
       "feature_23    0.000000\n",
       "feature_24    0.000000\n",
       "feature_25    0.000000\n",
       "feature_26    0.000000\n",
       "feature_27    0.906273\n",
       "feature_28    0.000276\n",
       "feature_29    1.113338\n",
       "feature_30    0.003006\n",
       "feature_31    0.002205\n",
       "feature_32    0.000000\n",
       "Name: std, dtype: float64"
      ]
     },
     "execution_count": 74,
     "metadata": {},
     "output_type": "execute_result"
    }
   ],
   "source": [
    "df_temp.loc['std']"
   ]
  },
  {
   "cell_type": "markdown",
   "id": "164aa190",
   "metadata": {},
   "source": [
    "## Test"
   ]
  },
  {
   "cell_type": "code",
   "execution_count": 44,
   "id": "9a689f61",
   "metadata": {
    "ExecuteTime": {
     "end_time": "2022-06-03T00:33:06.445717Z",
     "start_time": "2022-06-03T00:33:06.416207Z"
    }
   },
   "outputs": [],
   "source": [
    "imagePath='/1_image_zoey_1_50/11311273/0.jpeg'\n",
    "\n",
    "image = keras.preprocessing.image.load_img(imagePath, target_size=(224, 224))\n"
   ]
  },
  {
   "cell_type": "code",
   "execution_count": 45,
   "id": "9c8f1b0e",
   "metadata": {
    "ExecuteTime": {
     "end_time": "2022-06-03T00:33:07.361006Z",
     "start_time": "2022-06-03T00:33:07.330914Z"
    }
   },
   "outputs": [
    {
     "data": {
      "image/png": "[encoded data removed]",
      "text/plain": [
       "<PIL.Image.Image image mode=RGB size=224x224 at 0x7FF7A43C6C70>"
      ]
     },
     "execution_count": 45,
     "metadata": {},
     "output_type": "execute_result"
    }
   ],
   "source": [
    "image"
   ]
  },
  {
   "cell_type": "code",
   "execution_count": 46,
   "id": "e9b16f0c",
   "metadata": {
    "ExecuteTime": {
     "end_time": "2022-06-03T00:33:09.462646Z",
     "start_time": "2022-06-03T00:33:09.455838Z"
    }
   },
   "outputs": [],
   "source": [
    "image = keras.preprocessing.image.img_to_array(image)\n",
    "image = np.expand_dims(image, axis=0)\n",
    "image = keras.applications.resnet50.preprocess_input(image)\n"
   ]
  },
  {
   "cell_type": "code",
   "execution_count": 47,
   "id": "a078b35a",
   "metadata": {
    "ExecuteTime": {
     "end_time": "2022-06-03T00:33:10.214408Z",
     "start_time": "2022-06-03T00:33:10.208222Z"
    }
   },
   "outputs": [
    {
     "data": {
      "text/plain": [
       "(1, 224, 224, 3)"
      ]
     },
     "execution_count": 47,
     "metadata": {},
     "output_type": "execute_result"
    }
   ],
   "source": [
    "image.shape"
   ]
  },
  {
   "cell_type": "code",
   "execution_count": 15,
   "id": "df7d9dd0",
   "metadata": {
    "ExecuteTime": {
     "end_time": "2022-06-02T19:56:24.704251Z",
     "start_time": "2022-06-02T19:56:24.699690Z"
    }
   },
   "outputs": [],
   "source": []
  },
  {
   "cell_type": "code",
   "execution_count": 17,
   "id": "e2f6cd27",
   "metadata": {
    "ExecuteTime": {
     "end_time": "2022-06-02T19:57:10.026409Z",
     "start_time": "2022-06-02T19:57:09.959827Z"
    }
   },
   "outputs": [],
   "source": [
    "keras.applications.resnet50.preprocess_input?"
   ]
  },
  {
   "cell_type": "code",
   "execution_count": 48,
   "id": "bf4436d1",
   "metadata": {
    "ExecuteTime": {
     "end_time": "2022-06-03T00:33:15.675327Z",
     "start_time": "2022-06-03T00:33:14.824982Z"
    }
   },
   "outputs": [
    {
     "name": "stdout",
     "output_type": "stream",
     "text": [
      "1/1 [==============================] - 1s 786ms/step\n"
     ]
    }
   ],
   "source": [
    "features = base_model.predict(image)\n",
    "# features = features.reshape((features.shape[0], 7 * 7 * 2048))\n",
    "features = features.reshape((features.shape[0], -1))"
   ]
  },
  {
   "cell_type": "code",
   "execution_count": 49,
   "id": "26f87fc3",
   "metadata": {
    "ExecuteTime": {
     "end_time": "2022-06-03T00:33:16.827140Z",
     "start_time": "2022-06-03T00:33:16.820424Z"
    }
   },
   "outputs": [
    {
     "data": {
      "text/plain": [
       "(1, 62720)"
      ]
     },
     "execution_count": 49,
     "metadata": {},
     "output_type": "execute_result"
    }
   ],
   "source": [
    "features.shape"
   ]
  },
  {
   "cell_type": "code",
   "execution_count": 50,
   "id": "c3415cc3",
   "metadata": {
    "ExecuteTime": {
     "end_time": "2022-06-03T00:33:27.634363Z",
     "start_time": "2022-06-03T00:33:27.617195Z"
    }
   },
   "outputs": [
    {
     "data": {
      "text/plain": [
       "0.000000    50693\n",
       "6.000000     1008\n",
       "0.781738        2\n",
       "2.759888        2\n",
       "2.154566        2\n",
       "            ...  \n",
       "2.092931        1\n",
       "2.402520        1\n",
       "2.461208        1\n",
       "1.047091        1\n",
       "4.464641        1\n",
       "Length: 11015, dtype: int64"
      ]
     },
     "execution_count": 50,
     "metadata": {},
     "output_type": "execute_result"
    }
   ],
   "source": [
    "pd.Series(features[0,:]).value_counts()"
   ]
  },
  {
   "cell_type": "code",
   "execution_count": 29,
   "id": "5f5f4455",
   "metadata": {
    "ExecuteTime": {
     "end_time": "2022-06-02T20:01:55.970615Z",
     "start_time": "2022-06-02T20:01:55.966618Z"
    }
   },
   "outputs": [],
   "source": [
    "import pandas as pd"
   ]
  },
  {
   "cell_type": "code",
   "execution_count": 32,
   "id": "69b6e4f3",
   "metadata": {
    "ExecuteTime": {
     "end_time": "2022-06-02T20:02:59.421811Z",
     "start_time": "2022-06-02T20:02:59.412317Z"
    }
   },
   "outputs": [],
   "source": [
    "keras.applications.ResNet50?"
   ]
  },
  {
   "cell_type": "code",
   "execution_count": null,
   "id": "7b727059",
   "metadata": {},
   "outputs": [],
   "source": []
  }
 ],
 "metadata": {
  "kernelspec": {
   "display_name": "Python 3",
   "language": "python",
   "name": "python3"
  },
  "language_info": {
   "codemirror_mode": {
    "name": "ipython",
    "version": 3
   },
   "file_extension": ".py",
   "mimetype": "text/x-python",
   "name": "python",
   "nbconvert_exporter": "python",
   "pygments_lexer": "ipython3",
   "version": "3.9.5"
  },
  "toc": {
   "base_numbering": 1,
   "nav_menu": {},
   "number_sections": true,
   "sideBar": true,
   "skip_h1_title": false,
   "title_cell": "Table of Contents",
   "title_sidebar": "Contents",
   "toc_cell": false,
   "toc_position": {},
   "toc_section_display": true,
   "toc_window_display": true
  },
  "varInspector": {
   "cols": {
    "lenName": 16,
    "lenType": 16,
    "lenVar": 40
   },
   "kernels_config": {
    "python": {
     "delete_cmd_postfix": "",
     "delete_cmd_prefix": "del ",
     "library": "var_list.py",
     "varRefreshCmd": "print(var_dic_list())"
    },
    "r": {
     "delete_cmd_postfix": ") ",
     "delete_cmd_prefix": "rm(",
     "library": "var_list.r",
     "varRefreshCmd": "cat(var_dic_list()) "
    }
   },
   "types_to_exclude": [
    "module",
    "function",
    "builtin_function_or_method",
    "instance",
    "_Feature"
   ],
   "window_display": false
  }
 },
 "nbformat": 4,
 "nbformat_minor": 5
}
