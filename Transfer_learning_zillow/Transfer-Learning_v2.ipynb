{
 "cells": [
  {
   "cell_type": "code",
   "execution_count": 3,
   "id": "c89f9b71",
   "metadata": {
    "ExecuteTime": {
     "end_time": "2022-06-17T01:06:15.180808Z",
     "start_time": "2022-06-17T01:06:15.178752Z"
    }
   },
   "outputs": [],
   "source": [
    "import numpy as np\n",
    "import pandas as pd\n",
    "import tensorflow as tf\n",
    "from tensorflow import keras\n",
    "import scipy\n",
    "import os"
   ]
  },
  {
   "cell_type": "code",
   "execution_count": 4,
   "id": "e99a65c3",
   "metadata": {
    "ExecuteTime": {
     "end_time": "2022-06-17T01:05:10.457253Z",
     "start_time": "2022-06-17T01:05:10.453845Z"
    }
   },
   "outputs": [],
   "source": [
    "from tensorflow.keras.applications import ResNet50\n",
    "from tensorflow.keras.applications.resnet50 import preprocess_input\n",
    "from tensorflow.keras.preprocessing.image import img_to_array\n",
    "from tensorflow.keras.preprocessing.image import load_img"
   ]
  },
  {
   "cell_type": "markdown",
   "id": "b6171e23",
   "metadata": {},
   "source": [
    "## Model structure"
   ]
  },
  {
   "cell_type": "code",
   "execution_count": 5,
   "id": "523d20b7",
   "metadata": {
    "ExecuteTime": {
     "end_time": "2022-06-17T01:40:54.106888Z",
     "start_time": "2022-06-17T01:40:52.920343Z"
    }
   },
   "outputs": [],
   "source": [
    "base_model = keras.applications.ResNet50(weights=\"imagenet\", include_top=False)\n",
    "\n",
    "# base_model = keras.applications.Xception(weights=\"imagenet\", include_top=False)\n",
    "# base_model = keras.applications.MobileNetV2(weights=\"imagenet\", include_top=False,input_shape=(224,224,3))\n",
    "# base_model = keras.applications.EfficientNetB7(weights=\"imagenet\", include_top=False,input_shape=(224,224,3))\n",
    "\n",
    "\n",
    "base_model.trainable = False\n",
    "\n",
    "\n",
    "inputs = keras.Input(shape=(224,224,3))\n",
    "# inputs = keras.Input(shape=(299,299,3))\n",
    "\n",
    "\n",
    "x = base_model(inputs, training=False)\n",
    "\n",
    "x = keras.layers.GlobalAveragePooling2D()(x)\n",
    "# # x = keras.layers.Flatten()(x)\n",
    "# x = keras.layers.Dropout(0.2)(x)\n",
    "# x = keras.layers.Dense(128, activation='relu',kernel_regularizer=keras.regularizers.L1(0.01))(x)\n",
    "x = keras.layers.Dropout(0.2)(x)\n",
    "x = keras.layers.Dense(32, activation='relu',kernel_regularizer=keras.regularizers.L1(0.01))(x)\n",
    "\n",
    "# x = keras.layers.Dense(8, activation='relu')(x)\n",
    "outputs = keras.layers.Dense(1)(x)\n",
    "\n",
    "model = keras.Model(inputs, outputs)\n",
    "\n",
    "model.compile(\n",
    "    optimizer='adam',\n",
    "    loss='mse',\n",
    "    metrics=[tf.keras.metrics.RootMeanSquaredError()])"
   ]
  },
  {
   "cell_type": "code",
   "execution_count": 6,
   "id": "5cd047c2",
   "metadata": {
    "ExecuteTime": {
     "end_time": "2022-06-17T01:40:54.308195Z",
     "start_time": "2022-06-17T01:40:54.293390Z"
    }
   },
   "outputs": [
    {
     "name": "stdout",
     "output_type": "stream",
     "text": [
      "Model: \"model\"\n",
      "_________________________________________________________________\n",
      "Layer (type)                 Output Shape              Param #   \n",
      "=================================================================\n",
      "input_2 (InputLayer)         [(None, 224, 224, 3)]     0         \n",
      "_________________________________________________________________\n",
      "resnet50 (Functional)        (None, None, None, 2048)  23587712  \n",
      "_________________________________________________________________\n",
      "global_average_pooling2d (Gl (None, 2048)              0         \n",
      "_________________________________________________________________\n",
      "dropout (Dropout)            (None, 2048)              0         \n",
      "_________________________________________________________________\n",
      "dense (Dense)                (None, 32)                65568     \n",
      "_________________________________________________________________\n",
      "dense_1 (Dense)              (None, 1)                 33        \n",
      "=================================================================\n",
      "Total params: 23,653,313\n",
      "Trainable params: 65,601\n",
      "Non-trainable params: 23,587,712\n",
      "_________________________________________________________________\n"
     ]
    }
   ],
   "source": [
    "model.summary()"
   ]
  },
  {
   "cell_type": "markdown",
   "id": "8f54c532",
   "metadata": {},
   "source": [
    "## Read Data"
   ]
  },
  {
   "cell_type": "code",
   "execution_count": 7,
   "id": "06a4852e",
   "metadata": {
    "ExecuteTime": {
     "end_time": "2022-06-17T01:07:47.961299Z",
     "start_time": "2022-06-17T01:07:47.955315Z"
    }
   },
   "outputs": [
    {
     "data": {
      "text/plain": [
       "'/Users/joonghochoi/Desktop/Transfer_learning_zillow'"
      ]
     },
     "execution_count": 7,
     "metadata": {},
     "output_type": "execute_result"
    }
   ],
   "source": [
    "os.getcwd()"
   ]
  },
  {
   "cell_type": "code",
   "execution_count": 8,
   "id": "baf3abb7",
   "metadata": {
    "ExecuteTime": {
     "end_time": "2022-06-17T01:08:55.432197Z",
     "start_time": "2022-06-17T01:08:55.422778Z"
    }
   },
   "outputs": [
    {
     "data": {
      "text/html": [
       "<div>\n",
       "<style scoped>\n",
       "    .dataframe tbody tr th:only-of-type {\n",
       "        vertical-align: middle;\n",
       "    }\n",
       "\n",
       "    .dataframe tbody tr th {\n",
       "        vertical-align: top;\n",
       "    }\n",
       "\n",
       "    .dataframe thead th {\n",
       "        text-align: right;\n",
       "    }\n",
       "</style>\n",
       "<table border=\"1\" class=\"dataframe\">\n",
       "  <thead>\n",
       "    <tr style=\"text-align: right;\">\n",
       "      <th></th>\n",
       "      <th>Unnamed: 0</th>\n",
       "      <th>zpid</th>\n",
       "      <th>time</th>\n",
       "      <th>price</th>\n",
       "      <th>week</th>\n",
       "      <th>dow</th>\n",
       "      <th>month</th>\n",
       "      <th>year</th>\n",
       "      <th>latitude</th>\n",
       "      <th>longitude</th>\n",
       "      <th>...</th>\n",
       "      <th>unitCount</th>\n",
       "      <th>stories</th>\n",
       "      <th>lastRemodelYear</th>\n",
       "      <th>solarPotential</th>\n",
       "      <th>zestimate</th>\n",
       "      <th>zestimateHighPercent</th>\n",
       "      <th>zestimateLowPercent</th>\n",
       "      <th>rentZestimate</th>\n",
       "      <th>taxEstimate</th>\n",
       "      <th>n_round</th>\n",
       "    </tr>\n",
       "  </thead>\n",
       "  <tbody>\n",
       "    <tr>\n",
       "      <th>0</th>\n",
       "      <td>15</td>\n",
       "      <td>11252639</td>\n",
       "      <td>2020-07-30</td>\n",
       "      <td>329600</td>\n",
       "      <td>31</td>\n",
       "      <td>Thursday</td>\n",
       "      <td>7</td>\n",
       "      <td>20</td>\n",
       "      <td>40.390975</td>\n",
       "      <td>-80.067424</td>\n",
       "      <td>...</td>\n",
       "      <td>0</td>\n",
       "      <td>1</td>\n",
       "      <td>1959</td>\n",
       "      <td>86.82</td>\n",
       "      <td>388800</td>\n",
       "      <td>8</td>\n",
       "      <td>7</td>\n",
       "      <td>2504</td>\n",
       "      <td>561800</td>\n",
       "      <td>69</td>\n",
       "    </tr>\n",
       "    <tr>\n",
       "      <th>1</th>\n",
       "      <td>18</td>\n",
       "      <td>11252786</td>\n",
       "      <td>2020-11-16</td>\n",
       "      <td>787000</td>\n",
       "      <td>47</td>\n",
       "      <td>Monday</td>\n",
       "      <td>11</td>\n",
       "      <td>20</td>\n",
       "      <td>40.387805</td>\n",
       "      <td>-80.072098</td>\n",
       "      <td>...</td>\n",
       "      <td>0</td>\n",
       "      <td>2</td>\n",
       "      <td>1958</td>\n",
       "      <td>90.02</td>\n",
       "      <td>884800</td>\n",
       "      <td>6</td>\n",
       "      <td>6</td>\n",
       "      <td>3830</td>\n",
       "      <td>722659</td>\n",
       "      <td>69</td>\n",
       "    </tr>\n",
       "    <tr>\n",
       "      <th>2</th>\n",
       "      <td>19</td>\n",
       "      <td>11252802</td>\n",
       "      <td>2020-06-24</td>\n",
       "      <td>504715</td>\n",
       "      <td>26</td>\n",
       "      <td>Wednesday</td>\n",
       "      <td>6</td>\n",
       "      <td>20</td>\n",
       "      <td>40.388525</td>\n",
       "      <td>-80.068769</td>\n",
       "      <td>...</td>\n",
       "      <td>0</td>\n",
       "      <td>1</td>\n",
       "      <td>1948</td>\n",
       "      <td>92.42</td>\n",
       "      <td>600200</td>\n",
       "      <td>8</td>\n",
       "      <td>7</td>\n",
       "      <td>3894</td>\n",
       "      <td>626265</td>\n",
       "      <td>69</td>\n",
       "    </tr>\n",
       "    <tr>\n",
       "      <th>3</th>\n",
       "      <td>20</td>\n",
       "      <td>11253008</td>\n",
       "      <td>2020-06-22</td>\n",
       "      <td>755000</td>\n",
       "      <td>26</td>\n",
       "      <td>Monday</td>\n",
       "      <td>6</td>\n",
       "      <td>20</td>\n",
       "      <td>40.386178</td>\n",
       "      <td>-80.070577</td>\n",
       "      <td>...</td>\n",
       "      <td>0</td>\n",
       "      <td>2</td>\n",
       "      <td>1977</td>\n",
       "      <td>87.62</td>\n",
       "      <td>901300</td>\n",
       "      <td>8</td>\n",
       "      <td>7</td>\n",
       "      <td>5751</td>\n",
       "      <td>1102648</td>\n",
       "      <td>69</td>\n",
       "    </tr>\n",
       "    <tr>\n",
       "      <th>4</th>\n",
       "      <td>21</td>\n",
       "      <td>11253033</td>\n",
       "      <td>2020-10-01</td>\n",
       "      <td>800000</td>\n",
       "      <td>40</td>\n",
       "      <td>Thursday</td>\n",
       "      <td>10</td>\n",
       "      <td>20</td>\n",
       "      <td>40.385030</td>\n",
       "      <td>-80.068198</td>\n",
       "      <td>...</td>\n",
       "      <td>0</td>\n",
       "      <td>2</td>\n",
       "      <td>1953</td>\n",
       "      <td>88.42</td>\n",
       "      <td>918100</td>\n",
       "      <td>7</td>\n",
       "      <td>6</td>\n",
       "      <td>3160</td>\n",
       "      <td>629218</td>\n",
       "      <td>69</td>\n",
       "    </tr>\n",
       "  </tbody>\n",
       "</table>\n",
       "<p>5 rows × 35 columns</p>\n",
       "</div>"
      ],
      "text/plain": [
       "   Unnamed: 0      zpid        time   price  week        dow  month  year  \\\n",
       "0          15  11252639  2020-07-30  329600    31   Thursday      7    20   \n",
       "1          18  11252786  2020-11-16  787000    47     Monday     11    20   \n",
       "2          19  11252802  2020-06-24  504715    26  Wednesday      6    20   \n",
       "3          20  11253008  2020-06-22  755000    26     Monday      6    20   \n",
       "4          21  11253033  2020-10-01  800000    40   Thursday     10    20   \n",
       "\n",
       "    latitude  longitude  ... unitCount stories  lastRemodelYear  \\\n",
       "0  40.390975 -80.067424  ...         0       1             1959   \n",
       "1  40.387805 -80.072098  ...         0       2             1958   \n",
       "2  40.388525 -80.068769  ...         0       1             1948   \n",
       "3  40.386178 -80.070577  ...         0       2             1977   \n",
       "4  40.385030 -80.068198  ...         0       2             1953   \n",
       "\n",
       "  solarPotential  zestimate  zestimateHighPercent  zestimateLowPercent  \\\n",
       "0          86.82     388800                     8                    7   \n",
       "1          90.02     884800                     6                    6   \n",
       "2          92.42     600200                     8                    7   \n",
       "3          87.62     901300                     8                    7   \n",
       "4          88.42     918100                     7                    6   \n",
       "\n",
       "  rentZestimate  taxEstimate  n_round  \n",
       "0          2504       561800       69  \n",
       "1          3830       722659       69  \n",
       "2          3894       626265       69  \n",
       "3          5751      1102648       69  \n",
       "4          3160       629218       69  \n",
       "\n",
       "[5 rows x 35 columns]"
      ]
     },
     "execution_count": 8,
     "metadata": {},
     "output_type": "execute_result"
    }
   ],
   "source": [
    "df_data=pd.read_csv('df_selected_final.csv',sep=',',header=0)\n",
    "df_data.head()"
   ]
  },
  {
   "cell_type": "code",
   "execution_count": 9,
   "id": "04793346",
   "metadata": {
    "ExecuteTime": {
     "end_time": "2022-06-17T01:09:12.936589Z",
     "start_time": "2022-06-17T01:09:12.923029Z"
    }
   },
   "outputs": [
    {
     "data": {
      "text/plain": [
       "(853, 35)"
      ]
     },
     "execution_count": 9,
     "metadata": {},
     "output_type": "execute_result"
    }
   ],
   "source": [
    "df_data.shape"
   ]
  },
  {
   "cell_type": "code",
   "execution_count": 15,
   "id": "e99138fb",
   "metadata": {
    "ExecuteTime": {
     "end_time": "2022-06-17T01:17:36.561514Z",
     "start_time": "2022-06-17T01:17:36.524801Z"
    }
   },
   "outputs": [
    {
     "data": {
      "text/plain": [
       "(789, 674)"
      ]
     },
     "execution_count": 15,
     "metadata": {},
     "output_type": "execute_result"
    }
   ],
   "source": [
    "import glob\n",
    "\n",
    "list_all_pic=glob.glob('1_images/*/0*.jp*')+glob.glob('1_images/*/*/0*.jp*')+ glob.glob('1_images/*/*/*/0*.jp*')\n",
    "list_all_pic_filtered=[i for i in list_all_pic if ('_' not in i.split('/')[-2]) and ('nan' not in i.split('/')[-2])]\n",
    "dict_zpid_pic_path={int(i.split('/')[-2]):i for i in list_all_pic_filtered}\n",
    "len(list_all_pic),len(list_all_pic_filtered)\n"
   ]
  },
  {
   "cell_type": "code",
   "execution_count": 16,
   "id": "dbd3658b",
   "metadata": {
    "ExecuteTime": {
     "end_time": "2022-06-17T01:23:39.989893Z",
     "start_time": "2022-06-17T01:23:39.986843Z"
    }
   },
   "outputs": [
    {
     "data": {
      "text/plain": [
       "(667, 36)"
      ]
     },
     "execution_count": 16,
     "metadata": {},
     "output_type": "execute_result"
    }
   ],
   "source": [
    "df_data['pic_path']=df_data['zpid'].apply(lambda x: dict_zpid_pic_path[x] if x in dict_zpid_pic_path else \"NA\")\n",
    "df_data_filtered=df_data[df_data['pic_path']!='NA']\n",
    "df_data_filtered.shape"
   ]
  },
  {
   "cell_type": "code",
   "execution_count": 17,
   "id": "db98dc04",
   "metadata": {
    "ExecuteTime": {
     "end_time": "2022-06-17T01:28:39.862088Z",
     "start_time": "2022-06-17T01:28:39.859409Z"
    }
   },
   "outputs": [
    {
     "name": "stderr",
     "output_type": "stream",
     "text": [
      "<ipython-input-17-8441e1a4237f>:1: SettingWithCopyWarning: \n",
      "A value is trying to be set on a copy of a slice from a DataFrame.\n",
      "Try using .loc[row_indexer,col_indexer] = value instead\n",
      "\n",
      "See the caveats in the documentation: https://pandas.pydata.org/pandas-docs/stable/user_guide/indexing.html#returning-a-view-versus-a-copy\n",
      "  df_data_filtered['price_log'] = df_data_filtered['price'].apply(np.log)\n"
     ]
    }
   ],
   "source": [
    "df_data_filtered['price_log'] = df_data_filtered['price'].apply(np.log)"
   ]
  },
  {
   "cell_type": "markdown",
   "id": "5fcf8b50",
   "metadata": {},
   "source": [
    "## Pre-process"
   ]
  },
  {
   "cell_type": "code",
   "execution_count": 18,
   "id": "e55d5dbb",
   "metadata": {
    "ExecuteTime": {
     "end_time": "2022-06-17T01:25:49.123068Z",
     "start_time": "2022-06-17T01:25:45.366368Z"
    }
   },
   "outputs": [],
   "source": [
    "images=[keras.preprocessing.image.load_img(i, target_size=(224, 224)) for i in df_data_filtered['pic_path']]\n",
    "# images=[keras.preprocessing.image.load_img(i, target_size=(299, 299)) for i in df_data_filtered['pic_path']]\n",
    "images=[keras.preprocessing.image.img_to_array(i) for i in images]\n",
    "images=np.array(images)\n",
    "# image = np.expand_dims(image, axis=0)\n",
    "images = keras.applications.resnet50.preprocess_input(images)\n",
    "# images = keras.applications.xception.preprocess_input(images)\n",
    "# images = keras.applications.mobilenet_v2.preprocess_input(images)\n",
    "# images = keras.applications.efficientnet.preprocess_input(images)\n"
   ]
  },
  {
   "cell_type": "code",
   "execution_count": 19,
   "id": "c91d608a",
   "metadata": {
    "ExecuteTime": {
     "end_time": "2022-06-17T01:29:04.699073Z",
     "start_time": "2022-06-17T01:29:04.049429Z"
    }
   },
   "outputs": [],
   "source": [
    "from sklearn.model_selection import train_test_split\n",
    "from sklearn import preprocessing\n",
    "\n",
    "# train_imgs=images[:-50]\n",
    "# val_imgs=images[-50:]\n",
    "# # train_price=np.array(df_data_filtered['price'].tolist()[:-50])/1e5\n",
    "# # val_price=np.array(df_data_filtered['price'].tolist()[-50:])/1e5\n",
    "# train_price=np.array(df_data_filtered['price'].tolist()[:-50])/1e6\n",
    "# val_price=np.array(df_data_filtered['price'].tolist()[-50:])/1e6\n",
    "\n",
    "train_imgs, val_imgs, train_price, val_price = train_test_split(images, \n",
    "                                                                np.array(df_data_filtered['price_log'].tolist())/1e6,\n",
    "                                                                test_size=0.3, random_state=66)\n",
    "standard_scaler = preprocessing.StandardScaler()\n",
    "train_price = standard_scaler.fit_transform(train_price.reshape(-1, 1))\n",
    "val_price = standard_scaler.transform(val_price.reshape(-1, 1))\n",
    "\n",
    "# min_max_scaler = preprocessing.MinMaxScaler()\n",
    "# train_price = min_max_scaler.fit_transform(train_price.reshape(-1, 1))\n",
    "# val_price = min_max_scaler.transform(val_price.reshape(-1, 1))"
   ]
  },
  {
   "cell_type": "code",
   "execution_count": 20,
   "id": "0be2477f",
   "metadata": {
    "ExecuteTime": {
     "end_time": "2022-06-17T01:29:05.570948Z",
     "start_time": "2022-06-17T01:29:05.568134Z"
    }
   },
   "outputs": [
    {
     "data": {
      "text/plain": [
       "array([2.76680365])"
      ]
     },
     "execution_count": 20,
     "metadata": {},
     "output_type": "execute_result"
    }
   ],
   "source": [
    "max(train_price)"
   ]
  },
  {
   "cell_type": "markdown",
   "id": "aa95a761",
   "metadata": {},
   "source": [
    "## Model Training"
   ]
  },
  {
   "cell_type": "code",
   "execution_count": 21,
   "id": "a6512495",
   "metadata": {
    "ExecuteTime": {
     "end_time": "2022-06-17T01:52:37.952505Z",
     "start_time": "2022-06-17T01:41:26.397200Z"
    }
   },
   "outputs": [
    {
     "name": "stdout",
     "output_type": "stream",
     "text": [
      "Epoch 1/50\n",
      "16/16 [==============================] - 46s 3s/step - loss: 17.9496 - root_mean_squared_error: 1.2856 - val_loss: 15.8270 - val_root_mean_squared_error: 1.0467\n",
      "Epoch 2/50\n",
      "16/16 [==============================] - 43s 3s/step - loss: 14.1920 - root_mean_squared_error: 0.9371 - val_loss: 12.6111 - val_root_mean_squared_error: 0.9870\n",
      "Epoch 3/50\n",
      "16/16 [==============================] - 42s 3s/step - loss: 11.1368 - root_mean_squared_error: 0.8817 - val_loss: 9.8119 - val_root_mean_squared_error: 0.9333\n",
      "Epoch 4/50\n",
      "16/16 [==============================] - 41s 3s/step - loss: 8.6662 - root_mean_squared_error: 0.8295 - val_loss: 7.7803 - val_root_mean_squared_error: 0.9177\n",
      "Epoch 5/50\n",
      "16/16 [==============================] - 41s 3s/step - loss: 6.8897 - root_mean_squared_error: 0.8090 - val_loss: 6.3245 - val_root_mean_squared_error: 0.9182\n",
      "Epoch 6/50\n",
      "16/16 [==============================] - 41s 3s/step - loss: 5.6662 - root_mean_squared_error: 0.8323 - val_loss: 5.2000 - val_root_mean_squared_error: 0.8879\n",
      "Epoch 7/50\n",
      "16/16 [==============================] - 42s 3s/step - loss: 4.5995 - root_mean_squared_error: 0.7605 - val_loss: 4.6357 - val_root_mean_squared_error: 1.0202\n",
      "Epoch 8/50\n",
      "16/16 [==============================] - 41s 3s/step - loss: 3.9612 - root_mean_squared_error: 0.7990 - val_loss: 3.8243 - val_root_mean_squared_error: 0.8991\n",
      "Epoch 9/50\n",
      "16/16 [==============================] - 41s 3s/step - loss: 3.3472 - root_mean_squared_error: 0.7511 - val_loss: 3.2839 - val_root_mean_squared_error: 0.8675\n",
      "Epoch 10/50\n",
      "16/16 [==============================] - 46s 3s/step - loss: 2.9779 - root_mean_squared_error: 0.7801 - val_loss: 2.9900 - val_root_mean_squared_error: 0.8999\n",
      "Epoch 11/50\n",
      "16/16 [==============================] - 42s 3s/step - loss: 2.6135 - root_mean_squared_error: 0.7592 - val_loss: 2.6596 - val_root_mean_squared_error: 0.8850\n",
      "Epoch 12/50\n",
      "16/16 [==============================] - 42s 3s/step - loss: 2.2783 - root_mean_squared_error: 0.7193 - val_loss: 2.3893 - val_root_mean_squared_error: 0.8702\n",
      "Epoch 13/50\n",
      "16/16 [==============================] - 41s 3s/step - loss: 2.1366 - root_mean_squared_error: 0.7581 - val_loss: 2.4208 - val_root_mean_squared_error: 0.9674\n",
      "Epoch 14/50\n",
      "16/16 [==============================] - 42s 3s/step - loss: 2.0839 - root_mean_squared_error: 0.8033 - val_loss: 2.2888 - val_root_mean_squared_error: 0.9694\n"
     ]
    }
   ],
   "source": [
    "history = model.fit(x=train_imgs, y=train_price,\n",
    "                    validation_data=(val_imgs, val_price),\n",
    "                    batch_size=30,\n",
    "                    epochs=50,\n",
    "                    callbacks=[keras.callbacks.EarlyStopping(monitor='val_root_mean_squared_error', patience=5)],\n",
    "                    verbose=1)"
   ]
  },
  {
   "cell_type": "code",
   "execution_count": 22,
   "id": "7f2c0c9b",
   "metadata": {
    "ExecuteTime": {
     "end_time": "2022-06-08T21:07:01.459261Z",
     "start_time": "2022-06-08T21:07:01.455626Z"
    }
   },
   "outputs": [],
   "source": [
    "# for ind,i in enumerate(predict_prices):\n",
    "#     print(\"%.3f\" % i[0],val_price[ind])"
   ]
  },
  {
   "cell_type": "markdown",
   "id": "20938a7f",
   "metadata": {},
   "source": [
    "## Results explore"
   ]
  },
  {
   "cell_type": "code",
   "execution_count": 23,
   "id": "fc1ca474",
   "metadata": {
    "ExecuteTime": {
     "end_time": "2022-06-17T01:53:54.082320Z",
     "start_time": "2022-06-17T01:53:47.803385Z"
    }
   },
   "outputs": [
    {
     "data": {
      "text/plain": [
       "<AxesSubplot:>"
      ]
     },
     "execution_count": 23,
     "metadata": {},
     "output_type": "execute_result"
    },
    {
     "data": {
      "image/png": "[encoded data removed]",
      "text/plain": [
       "<Figure size 432x288 with 1 Axes>"
      ]
     },
     "metadata": {
      "needs_background": "light"
     },
     "output_type": "display_data"
    }
   ],
   "source": [
    "import seaborn as sns\n",
    "\n",
    "predict_prices=model.predict(val_imgs)\n",
    "sns.scatterplot(y=predict_prices.flatten(),x=val_price.flatten())"
   ]
  },
  {
   "cell_type": "code",
   "execution_count": 24,
   "id": "a381b64b",
   "metadata": {
    "ExecuteTime": {
     "end_time": "2022-06-17T01:38:22.416375Z",
     "start_time": "2022-06-17T01:38:22.414529Z"
    }
   },
   "outputs": [],
   "source": [
    "#sns.scatterplot(y=np.exp(predict_prices.flatten()),x=np.exp(val_price.flatten()))"
   ]
  },
  {
   "cell_type": "code",
   "execution_count": 25,
   "id": "6d8d8399",
   "metadata": {
    "ExecuteTime": {
     "end_time": "2022-06-17T01:53:57.501426Z",
     "start_time": "2022-06-17T01:53:57.497670Z"
    }
   },
   "outputs": [
    {
     "data": {
      "text/plain": [
       "5.272223402187642"
      ]
     },
     "execution_count": 25,
     "metadata": {},
     "output_type": "execute_result"
    }
   ],
   "source": [
    "np.mean(abs(predict_prices.flatten() - val_price.flatten())/abs(val_price.flatten()))"
   ]
  },
  {
   "cell_type": "code",
   "execution_count": 26,
   "id": "c0844868",
   "metadata": {
    "ExecuteTime": {
     "end_time": "2022-06-17T01:53:59.001969Z",
     "start_time": "2022-06-17T01:53:58.998528Z"
    }
   },
   "outputs": [
    {
     "data": {
      "text/plain": [
       "0.5967008096365621"
      ]
     },
     "execution_count": 26,
     "metadata": {},
     "output_type": "execute_result"
    }
   ],
   "source": [
    "np.mean(abs(np.exp(predict_prices.flatten()) - np.exp(val_price.flatten()))/abs(np.exp(val_price.flatten())))"
   ]
  },
  {
   "cell_type": "code",
   "execution_count": 27,
   "id": "8c89d9ee",
   "metadata": {
    "ExecuteTime": {
     "end_time": "2022-06-17T01:54:03.494633Z",
     "start_time": "2022-06-17T01:54:03.491344Z"
    }
   },
   "outputs": [
    {
     "data": {
      "text/plain": [
       "(0.517810061167655, 3.494822349285665e-15)"
      ]
     },
     "execution_count": 27,
     "metadata": {},
     "output_type": "execute_result"
    }
   ],
   "source": [
    "scipy.stats.pearsonr(predict_prices.flatten(),val_price.flatten())"
   ]
  },
  {
   "cell_type": "code",
   "execution_count": 28,
   "id": "d0653582",
   "metadata": {
    "ExecuteTime": {
     "end_time": "2022-06-17T01:54:18.347860Z",
     "start_time": "2022-06-17T01:54:05.868122Z"
    }
   },
   "outputs": [
    {
     "data": {
      "text/plain": [
       "<AxesSubplot:>"
      ]
     },
     "execution_count": 28,
     "metadata": {},
     "output_type": "execute_result"
    },
    {
     "data": {
      "image/png": "[encoded data removed]",
      "text/plain": [
       "<Figure size 432x288 with 1 Axes>"
      ]
     },
     "metadata": {
      "needs_background": "light"
     },
     "output_type": "display_data"
    }
   ],
   "source": [
    "predict_prices=model.predict(train_imgs)\n",
    "\n",
    "sns.scatterplot(y=predict_prices.flatten(),x=train_price.flatten())"
   ]
  },
  {
   "cell_type": "code",
   "execution_count": 29,
   "id": "e760f923",
   "metadata": {
    "ExecuteTime": {
     "end_time": "2022-06-17T01:54:20.261284Z",
     "start_time": "2022-06-17T01:54:20.258080Z"
    },
    "scrolled": true
   },
   "outputs": [
    {
     "data": {
      "text/plain": [
       "2.502612615312185"
      ]
     },
     "execution_count": 29,
     "metadata": {},
     "output_type": "execute_result"
    }
   ],
   "source": [
    "np.mean(abs(predict_prices.flatten() - train_price.flatten())/abs(train_price.flatten()))"
   ]
  },
  {
   "cell_type": "code",
   "execution_count": 30,
   "id": "9c88c678",
   "metadata": {
    "ExecuteTime": {
     "end_time": "2022-06-17T01:54:22.002640Z",
     "start_time": "2022-06-17T01:54:21.999136Z"
    }
   },
   "outputs": [
    {
     "data": {
      "text/plain": [
       "0.4864692476655385"
      ]
     },
     "execution_count": 30,
     "metadata": {},
     "output_type": "execute_result"
    }
   ],
   "source": [
    "np.mean(abs(np.exp(predict_prices.flatten()) - np.exp(train_price.flatten()))/abs(np.exp(train_price.flatten())))"
   ]
  },
  {
   "cell_type": "code",
   "execution_count": 31,
   "id": "c6fe954b",
   "metadata": {
    "ExecuteTime": {
     "end_time": "2022-06-17T01:54:25.830571Z",
     "start_time": "2022-06-17T01:54:25.827557Z"
    }
   },
   "outputs": [
    {
     "data": {
      "text/plain": [
       "(0.7732388870644897, 7.681050692208392e-94)"
      ]
     },
     "execution_count": 31,
     "metadata": {},
     "output_type": "execute_result"
    }
   ],
   "source": [
    "scipy.stats.pearsonr(predict_prices.flatten(),train_price.flatten())"
   ]
  },
  {
   "cell_type": "code",
   "execution_count": null,
   "id": "8f5e4f3f",
   "metadata": {},
   "outputs": [],
   "source": []
  },
  {
   "cell_type": "markdown",
   "id": "b7396f42",
   "metadata": {},
   "source": [
    "## Output layer information"
   ]
  },
  {
   "cell_type": "code",
   "execution_count": 32,
   "id": "62b2eed9",
   "metadata": {
    "ExecuteTime": {
     "end_time": "2022-06-17T02:02:20.970965Z",
     "start_time": "2022-06-17T02:02:20.967008Z"
    }
   },
   "outputs": [],
   "source": [
    "layer_name = 'dense'\n",
    "intermediate_layer_model = keras.Model(inputs=model.input,\n",
    "                                       outputs=model.get_layer(layer_name).output)\n",
    "\n"
   ]
  },
  {
   "cell_type": "code",
   "execution_count": 33,
   "id": "321ddf0c",
   "metadata": {
    "ExecuteTime": {
     "end_time": "2022-06-17T02:02:49.193875Z",
     "start_time": "2022-06-17T02:02:24.323145Z"
    }
   },
   "outputs": [],
   "source": [
    "intermediate_output = intermediate_layer_model(images)\n"
   ]
  },
  {
   "cell_type": "code",
   "execution_count": 34,
   "id": "4eebfadf",
   "metadata": {
    "ExecuteTime": {
     "end_time": "2022-06-17T02:02:59.990169Z",
     "start_time": "2022-06-17T02:02:59.987540Z"
    }
   },
   "outputs": [
    {
     "data": {
      "text/plain": [
       "TensorShape([667, 32])"
      ]
     },
     "execution_count": 34,
     "metadata": {},
     "output_type": "execute_result"
    }
   ],
   "source": [
    "intermediate_output.shape"
   ]
  },
  {
   "cell_type": "code",
   "execution_count": 35,
   "id": "f57cce55",
   "metadata": {
    "ExecuteTime": {
     "end_time": "2022-06-17T02:07:48.168861Z",
     "start_time": "2022-06-17T02:07:48.166192Z"
    }
   },
   "outputs": [],
   "source": [
    "df_out_feature=pd.DataFrame(np.array(intermediate_output),index=df_data_filtered['zpid'].to_list(),columns=['feature_%d' % i for i in range(1,33)])"
   ]
  },
  {
   "cell_type": "code",
   "execution_count": 36,
   "id": "59845495",
   "metadata": {
    "ExecuteTime": {
     "end_time": "2022-06-17T02:15:17.819830Z",
     "start_time": "2022-06-17T02:15:17.803934Z"
    }
   },
   "outputs": [
    {
     "data": {
      "text/html": [
       "<div>\n",
       "<style scoped>\n",
       "    .dataframe tbody tr th:only-of-type {\n",
       "        vertical-align: middle;\n",
       "    }\n",
       "\n",
       "    .dataframe tbody tr th {\n",
       "        vertical-align: top;\n",
       "    }\n",
       "\n",
       "    .dataframe thead th {\n",
       "        text-align: right;\n",
       "    }\n",
       "</style>\n",
       "<table border=\"1\" class=\"dataframe\">\n",
       "  <thead>\n",
       "    <tr style=\"text-align: right;\">\n",
       "      <th></th>\n",
       "      <th>feature_1</th>\n",
       "      <th>feature_2</th>\n",
       "      <th>feature_3</th>\n",
       "      <th>feature_4</th>\n",
       "      <th>feature_5</th>\n",
       "      <th>feature_6</th>\n",
       "      <th>feature_7</th>\n",
       "      <th>feature_8</th>\n",
       "      <th>feature_9</th>\n",
       "      <th>feature_10</th>\n",
       "      <th>...</th>\n",
       "      <th>feature_23</th>\n",
       "      <th>feature_24</th>\n",
       "      <th>feature_25</th>\n",
       "      <th>feature_26</th>\n",
       "      <th>feature_27</th>\n",
       "      <th>feature_28</th>\n",
       "      <th>feature_29</th>\n",
       "      <th>feature_30</th>\n",
       "      <th>feature_31</th>\n",
       "      <th>feature_32</th>\n",
       "    </tr>\n",
       "  </thead>\n",
       "  <tbody>\n",
       "    <tr>\n",
       "      <th>11252639</th>\n",
       "      <td>1.847447</td>\n",
       "      <td>0.163348</td>\n",
       "      <td>0.0</td>\n",
       "      <td>0.0</td>\n",
       "      <td>0.0</td>\n",
       "      <td>1.170019</td>\n",
       "      <td>0.0</td>\n",
       "      <td>1.686276</td>\n",
       "      <td>0.0</td>\n",
       "      <td>0.0</td>\n",
       "      <td>...</td>\n",
       "      <td>0.0</td>\n",
       "      <td>0.0</td>\n",
       "      <td>0.0</td>\n",
       "      <td>0.941279</td>\n",
       "      <td>0.0</td>\n",
       "      <td>0.0</td>\n",
       "      <td>0.0</td>\n",
       "      <td>0.0</td>\n",
       "      <td>0.224420</td>\n",
       "      <td>0.0</td>\n",
       "    </tr>\n",
       "    <tr>\n",
       "      <th>11252786</th>\n",
       "      <td>1.921577</td>\n",
       "      <td>0.000000</td>\n",
       "      <td>0.0</td>\n",
       "      <td>0.0</td>\n",
       "      <td>0.0</td>\n",
       "      <td>1.689191</td>\n",
       "      <td>0.0</td>\n",
       "      <td>1.125005</td>\n",
       "      <td>0.0</td>\n",
       "      <td>0.0</td>\n",
       "      <td>...</td>\n",
       "      <td>0.0</td>\n",
       "      <td>0.0</td>\n",
       "      <td>0.0</td>\n",
       "      <td>0.782110</td>\n",
       "      <td>0.0</td>\n",
       "      <td>0.0</td>\n",
       "      <td>0.0</td>\n",
       "      <td>0.0</td>\n",
       "      <td>0.068054</td>\n",
       "      <td>0.0</td>\n",
       "    </tr>\n",
       "    <tr>\n",
       "      <th>11252802</th>\n",
       "      <td>2.158650</td>\n",
       "      <td>0.297144</td>\n",
       "      <td>0.0</td>\n",
       "      <td>0.0</td>\n",
       "      <td>0.0</td>\n",
       "      <td>1.518946</td>\n",
       "      <td>0.0</td>\n",
       "      <td>1.258660</td>\n",
       "      <td>0.0</td>\n",
       "      <td>0.0</td>\n",
       "      <td>...</td>\n",
       "      <td>0.0</td>\n",
       "      <td>0.0</td>\n",
       "      <td>0.0</td>\n",
       "      <td>1.385096</td>\n",
       "      <td>0.0</td>\n",
       "      <td>0.0</td>\n",
       "      <td>0.0</td>\n",
       "      <td>0.0</td>\n",
       "      <td>1.090448</td>\n",
       "      <td>0.0</td>\n",
       "    </tr>\n",
       "    <tr>\n",
       "      <th>11253008</th>\n",
       "      <td>2.820886</td>\n",
       "      <td>0.000000</td>\n",
       "      <td>0.0</td>\n",
       "      <td>0.0</td>\n",
       "      <td>0.0</td>\n",
       "      <td>0.513527</td>\n",
       "      <td>0.0</td>\n",
       "      <td>0.858836</td>\n",
       "      <td>0.0</td>\n",
       "      <td>0.0</td>\n",
       "      <td>...</td>\n",
       "      <td>0.0</td>\n",
       "      <td>0.0</td>\n",
       "      <td>0.0</td>\n",
       "      <td>1.344304</td>\n",
       "      <td>0.0</td>\n",
       "      <td>0.0</td>\n",
       "      <td>0.0</td>\n",
       "      <td>0.0</td>\n",
       "      <td>0.000000</td>\n",
       "      <td>0.0</td>\n",
       "    </tr>\n",
       "    <tr>\n",
       "      <th>11253033</th>\n",
       "      <td>2.424710</td>\n",
       "      <td>0.245461</td>\n",
       "      <td>0.0</td>\n",
       "      <td>0.0</td>\n",
       "      <td>0.0</td>\n",
       "      <td>1.455600</td>\n",
       "      <td>0.0</td>\n",
       "      <td>1.506473</td>\n",
       "      <td>0.0</td>\n",
       "      <td>0.0</td>\n",
       "      <td>...</td>\n",
       "      <td>0.0</td>\n",
       "      <td>0.0</td>\n",
       "      <td>0.0</td>\n",
       "      <td>0.723790</td>\n",
       "      <td>0.0</td>\n",
       "      <td>0.0</td>\n",
       "      <td>0.0</td>\n",
       "      <td>0.0</td>\n",
       "      <td>0.000000</td>\n",
       "      <td>0.0</td>\n",
       "    </tr>\n",
       "  </tbody>\n",
       "</table>\n",
       "<p>5 rows × 32 columns</p>\n",
       "</div>"
      ],
      "text/plain": [
       "          feature_1  feature_2  feature_3  feature_4  feature_5  feature_6  \\\n",
       "11252639   1.847447   0.163348        0.0        0.0        0.0   1.170019   \n",
       "11252786   1.921577   0.000000        0.0        0.0        0.0   1.689191   \n",
       "11252802   2.158650   0.297144        0.0        0.0        0.0   1.518946   \n",
       "11253008   2.820886   0.000000        0.0        0.0        0.0   0.513527   \n",
       "11253033   2.424710   0.245461        0.0        0.0        0.0   1.455600   \n",
       "\n",
       "          feature_7  feature_8  feature_9  feature_10  ...  feature_23  \\\n",
       "11252639        0.0   1.686276        0.0         0.0  ...         0.0   \n",
       "11252786        0.0   1.125005        0.0         0.0  ...         0.0   \n",
       "11252802        0.0   1.258660        0.0         0.0  ...         0.0   \n",
       "11253008        0.0   0.858836        0.0         0.0  ...         0.0   \n",
       "11253033        0.0   1.506473        0.0         0.0  ...         0.0   \n",
       "\n",
       "          feature_24  feature_25  feature_26  feature_27  feature_28  \\\n",
       "11252639         0.0         0.0    0.941279         0.0         0.0   \n",
       "11252786         0.0         0.0    0.782110         0.0         0.0   \n",
       "11252802         0.0         0.0    1.385096         0.0         0.0   \n",
       "11253008         0.0         0.0    1.344304         0.0         0.0   \n",
       "11253033         0.0         0.0    0.723790         0.0         0.0   \n",
       "\n",
       "          feature_29  feature_30  feature_31  feature_32  \n",
       "11252639         0.0         0.0    0.224420         0.0  \n",
       "11252786         0.0         0.0    0.068054         0.0  \n",
       "11252802         0.0         0.0    1.090448         0.0  \n",
       "11253008         0.0         0.0    0.000000         0.0  \n",
       "11253033         0.0         0.0    0.000000         0.0  \n",
       "\n",
       "[5 rows x 32 columns]"
      ]
     },
     "execution_count": 36,
     "metadata": {},
     "output_type": "execute_result"
    }
   ],
   "source": [
    "df_out_feature.head()"
   ]
  },
  {
   "cell_type": "code",
   "execution_count": 37,
   "id": "e38f3d03",
   "metadata": {
    "ExecuteTime": {
     "end_time": "2022-06-17T02:08:31.396319Z",
     "start_time": "2022-06-17T02:08:31.392758Z"
    }
   },
   "outputs": [
    {
     "data": {
      "text/plain": [
       "array([1.63347811e-01, 0.00000000e+00, 2.97143757e-01, 2.45460749e-01,\n",
       "       2.71558791e-01, 2.26891071e-01, 7.47943819e-02, 2.82870382e-01,\n",
       "       2.76801676e-01, 1.67133301e-01, 3.79782051e-01, 4.41912085e-01,\n",
       "       1.05700350e+00, 5.30116379e-01, 8.78100395e-01, 4.83280182e-01,\n",
       "       6.03627115e-02, 2.56237119e-01, 4.00435537e-01, 3.24753433e-01,\n",
       "       3.44248921e-01, 7.99508989e-01, 9.21443999e-02, 5.96135736e-01,\n",
       "       2.95083374e-01, 9.94700491e-02, 3.82553115e-02, 4.28867251e-01,\n",
       "       1.94032565e-01, 9.93376672e-02, 2.67771572e-01, 6.55504346e-01,\n",
       "       7.37260342e-01, 8.22127879e-01, 3.88536155e-01, 1.10890426e-01,\n",
       "       1.15595043e-01, 3.42371225e-01, 5.22926807e-01, 5.20845294e-01,\n",
       "       4.05840069e-01, 2.24030927e-01, 3.77149016e-01, 2.93812901e-01,\n",
       "       5.71548864e-02, 7.38355696e-01, 7.81388581e-02, 2.81840712e-01,\n",
       "       4.80237836e-03, 4.21137899e-01, 1.70267090e-01, 5.00180900e-01,\n",
       "       1.28575182e+00, 2.94209868e-01, 5.96919060e-01, 5.11141777e-01,\n",
       "       7.29458332e-01, 8.01699877e-01, 1.95044518e-01, 1.18295443e+00,\n",
       "       8.23531032e-01, 5.72337031e-01, 1.60979033e-01, 1.05921604e-01,\n",
       "       7.31773615e-01, 1.16399729e+00, 2.41714478e-01, 6.28230035e-01,\n",
       "       4.64692712e-02, 2.52147056e-02, 6.46739721e-01, 1.92402035e-01,\n",
       "       1.66303134e+00, 9.34449375e-01, 8.15379143e-01, 3.44029218e-01,\n",
       "       2.71274596e-02, 2.63101429e-01, 7.04421937e-01, 9.52210009e-01,\n",
       "       2.57866740e-01, 7.07269132e-01, 7.84455359e-01, 3.04066837e-02,\n",
       "       2.60166734e-01, 2.04454437e-01, 1.01794451e-02, 9.06087011e-02,\n",
       "       2.83443213e-01, 3.90430028e-03, 1.09414406e-01, 2.78448075e-01,\n",
       "       6.88941717e-01, 6.62640184e-02, 4.63330358e-01, 1.87499583e-01,\n",
       "       5.79997003e-01, 6.28438592e-02, 5.01419365e-01, 5.54450229e-02,\n",
       "       1.42227709e-02, 1.69397846e-01, 5.72247207e-01, 2.40571022e-01,\n",
       "       6.49918556e-01, 2.75639147e-01, 6.93007290e-01, 1.57510936e-01,\n",
       "       2.75413483e-01, 2.08466426e-02, 1.22185612e+00, 3.68095249e-01,\n",
       "       1.03213108e+00, 6.68653071e-01, 9.75084722e-01, 3.06944102e-01,\n",
       "       4.74834889e-01, 4.66177970e-01, 1.13008410e-01, 9.02364612e-01,\n",
       "       4.32009190e-01, 3.96839589e-01, 5.08310258e-01, 4.16899413e-01,\n",
       "       6.08159244e-01, 3.24414104e-01, 4.25682813e-01, 2.62651294e-02,\n",
       "       2.54740030e-01, 1.22473761e-01, 4.88397598e-01, 3.25182021e-01,\n",
       "       2.42348835e-02, 3.95708159e-02, 2.37098888e-01, 3.98842692e-01,\n",
       "       5.81111252e-01, 4.23094928e-02, 7.76542604e-01, 1.50510639e-01,\n",
       "       4.30898964e-01, 1.22061878e-01, 3.89228389e-02, 3.55094522e-01,\n",
       "       8.70491982e-01, 2.01388299e-02, 2.13233531e-01, 1.28919780e-01,\n",
       "       6.56510442e-02, 5.54018021e-01, 1.11730742e+00, 5.23403645e-01,\n",
       "       9.48493838e-01, 7.31255352e-01, 9.42923188e-01, 9.17884469e-01,\n",
       "       5.79893030e-02, 1.01456881e+00, 8.04362893e-01, 4.47096050e-01,\n",
       "       4.34264587e-03, 5.84086478e-02, 7.77981341e-01, 7.23888934e-01,\n",
       "       1.48514509e-01, 8.51378977e-01, 4.78277415e-01, 1.30409896e-02,\n",
       "       1.56444758e-02, 2.53917962e-01, 7.84181356e-01, 4.24102962e-01,\n",
       "       1.20859325e+00, 2.99987495e-01, 2.27676913e-01, 2.36078501e-01,\n",
       "       4.79093269e-02, 9.07894790e-01, 1.59383148e-01, 1.13787436e+00,\n",
       "       7.40910769e-01, 1.32655418e+00, 6.41395509e-01, 7.32157290e-01,\n",
       "       1.37155390e+00, 1.21225214e+00, 6.84958756e-01, 7.29038537e-01,\n",
       "       4.58106458e-01, 3.61215264e-01, 1.53096676e+00, 1.20643878e+00,\n",
       "       6.70951724e-01, 7.74366856e-01, 1.00854564e+00, 8.04103673e-01,\n",
       "       9.69753921e-01, 9.38481092e-03, 5.87882400e-01, 5.41392207e-01,\n",
       "       3.73052388e-01, 1.13915622e+00, 3.80300581e-02, 1.10919154e+00,\n",
       "       7.06202209e-01, 7.67193556e-01, 1.90314740e-01, 3.74779820e-01,\n",
       "       8.79026234e-01, 6.66317225e-01, 9.41955268e-01, 7.86109865e-01,\n",
       "       7.79329121e-01, 5.10767579e-01, 7.16734946e-01, 7.10652590e-01,\n",
       "       3.01399708e-01, 1.04610801e+00, 7.22384632e-01, 3.44679564e-01,\n",
       "       4.79597300e-01, 3.94624799e-01, 7.81664252e-01, 3.98235053e-01,\n",
       "       9.41386878e-01, 2.31866509e-01, 2.41182595e-01, 8.48179936e-01,\n",
       "       5.56775689e-01, 6.26520753e-01, 4.93326157e-01, 8.05642366e-01,\n",
       "       3.34085584e-01, 1.24183014e-01, 1.19855553e-01, 4.78318483e-02,\n",
       "       3.60029042e-02, 2.11869314e-01, 3.45068574e-01, 2.32977435e-01,\n",
       "       6.64513230e-01, 5.48641980e-02, 6.16000354e-01, 1.07516021e-01,\n",
       "       2.23361030e-01, 1.68710515e-01, 3.36438775e-01, 5.12795806e-01,\n",
       "       7.64035583e-02, 1.64447978e-01, 6.90151215e-01, 1.45177215e-01,\n",
       "       6.95482254e-01, 2.05657303e-01, 4.48791534e-01, 2.14065403e-01,\n",
       "       1.07022858e+00, 7.16586590e-01, 2.73513496e-01, 8.60473752e-01,\n",
       "       4.77036357e-01, 2.94006139e-01, 3.69151682e-01, 3.34978402e-01,\n",
       "       3.53998244e-01, 4.38371062e-01, 5.32951295e-01, 2.44210094e-01,\n",
       "       1.85184896e-01, 4.88795415e-02, 3.87199938e-01, 1.12179458e+00,\n",
       "       5.77608705e-01, 1.76296318e+00, 5.10381222e-01, 7.92105258e-01,\n",
       "       6.86328709e-01, 1.37501395e+00, 9.05327082e-01, 2.44985223e-02,\n",
       "       6.31597519e-01, 9.08726990e-01, 1.10862041e+00, 1.25113413e-01,\n",
       "       1.01073265e+00, 3.67331892e-01, 5.42304158e-01, 6.82777464e-01,\n",
       "       6.26844347e-01, 9.95349288e-01, 1.27329886e+00, 9.46960688e-01,\n",
       "       7.50186741e-02, 6.11555934e-01, 2.35956058e-01, 8.43046665e-01,\n",
       "       3.24253924e-05, 8.61634135e-01, 2.09298879e-01, 5.16919255e-01,\n",
       "       2.98511893e-01, 5.57136834e-01, 1.54752421e+00, 5.95432162e-01,\n",
       "       6.75504386e-01, 6.92705810e-01, 4.22639936e-01, 1.06201339e+00,\n",
       "       1.62196338e-01, 5.38699985e-01, 7.48184919e-01, 9.98133898e-01,\n",
       "       7.48569191e-01, 1.13935876e+00, 5.30175328e-01, 6.64293766e-01,\n",
       "       4.09417182e-01, 8.07406783e-01, 3.34378898e-01, 5.80620706e-01,\n",
       "       1.28498578e+00, 9.73171473e-01, 6.69598520e-01, 1.05664885e+00,\n",
       "       8.12126279e-01, 8.75846624e-01, 4.43064362e-01, 1.42451167e-01,\n",
       "       4.42795634e-01, 3.33578110e-01, 9.12410676e-01, 5.66397309e-01,\n",
       "       6.66807890e-01, 5.27516603e-01, 1.96250796e-01, 9.90214169e-01,\n",
       "       4.70208943e-01, 3.85979444e-01, 1.14560509e+00, 7.48060644e-02,\n",
       "       1.60429344e-01, 1.63472652e-01, 6.93701254e-03, 9.17490721e-02,\n",
       "       1.08469760e+00, 3.24017733e-01, 6.20774090e-01, 3.28399748e-01,\n",
       "       6.19877815e-01, 3.19818944e-01, 7.19926238e-01, 8.29838693e-01,\n",
       "       1.13017440e+00, 9.71494377e-01, 1.04455209e+00, 1.59243032e-01,\n",
       "       1.61844626e-01, 2.00353175e-01, 1.56222105e-01, 7.22410321e-01,\n",
       "       6.15367651e-01, 6.16918623e-01, 1.50325969e-01, 7.19444871e-01,\n",
       "       8.92526925e-01, 3.12686801e-01, 2.65704185e-01, 3.22696745e-01,\n",
       "       6.51896477e-01, 4.21163112e-01, 4.25884634e-01, 2.70004064e-01,\n",
       "       5.11458963e-02, 3.27397019e-01, 5.23878098e-01, 9.21247900e-03,\n",
       "       1.51524097e-02, 8.01355064e-01, 1.16247725e+00, 1.41007638e+00,\n",
       "       1.34150386e-01, 7.80911744e-01, 2.45647833e-01, 2.00409859e-01,\n",
       "       5.81464767e-02, 1.15018234e-01], dtype=float32)"
      ]
     },
     "execution_count": 37,
     "metadata": {},
     "output_type": "execute_result"
    }
   ],
   "source": [
    "df_out_feature['feature_2'].unique()"
   ]
  },
  {
   "cell_type": "code",
   "execution_count": 38,
   "id": "bd36cbaa",
   "metadata": {
    "ExecuteTime": {
     "end_time": "2022-06-17T02:15:14.107069Z",
     "start_time": "2022-06-17T02:15:14.104660Z"
    }
   },
   "outputs": [],
   "source": [
    "df_out_feature['zpid']=df_out_feature.index"
   ]
  },
  {
   "cell_type": "code",
   "execution_count": 39,
   "id": "6de32f4f",
   "metadata": {
    "ExecuteTime": {
     "end_time": "2022-06-17T02:15:26.556579Z",
     "start_time": "2022-06-17T02:15:26.543248Z"
    }
   },
   "outputs": [],
   "source": [
    "df_out_feature.to_csv('TL_features.csv',sep=',',header=True,index=False)"
   ]
  },
  {
   "cell_type": "code",
   "execution_count": 40,
   "id": "8e9305bd",
   "metadata": {
    "ExecuteTime": {
     "end_time": "2022-06-17T02:10:14.393543Z",
     "start_time": "2022-06-17T02:10:14.357364Z"
    }
   },
   "outputs": [],
   "source": [
    "df_temp=df_out_feature.describe()"
   ]
  },
  {
   "cell_type": "code",
   "execution_count": 41,
   "id": "30baf455",
   "metadata": {
    "ExecuteTime": {
     "end_time": "2022-06-17T02:12:41.250467Z",
     "start_time": "2022-06-17T02:12:41.246823Z"
    }
   },
   "outputs": [
    {
     "data": {
      "text/plain": [
       "feature_1     7.380129e-01\n",
       "feature_2     3.677261e-01\n",
       "feature_3     0.000000e+00\n",
       "feature_4     1.954720e-02\n",
       "feature_5     0.000000e+00\n",
       "feature_6     6.010909e-01\n",
       "feature_7     0.000000e+00\n",
       "feature_8     6.174949e-01\n",
       "feature_9     0.000000e+00\n",
       "feature_10    5.160612e-02\n",
       "feature_11    3.312533e-01\n",
       "feature_12    3.825422e-02\n",
       "feature_13    1.135818e-02\n",
       "feature_14    1.687812e-02\n",
       "feature_15    8.822115e-04\n",
       "feature_16    1.872142e-02\n",
       "feature_17    3.138171e-01\n",
       "feature_18    3.631982e-02\n",
       "feature_19    9.587368e-02\n",
       "feature_20    4.037602e-01\n",
       "feature_21    0.000000e+00\n",
       "feature_22    0.000000e+00\n",
       "feature_23    3.138857e-02\n",
       "feature_24    3.340733e-02\n",
       "feature_25    0.000000e+00\n",
       "feature_26    3.498513e-01\n",
       "feature_27    1.665126e-02\n",
       "feature_28    0.000000e+00\n",
       "feature_29    4.184730e-02\n",
       "feature_30    0.000000e+00\n",
       "feature_31    1.655262e-01\n",
       "feature_32    0.000000e+00\n",
       "zpid          1.368045e+07\n",
       "Name: std, dtype: float64"
      ]
     },
     "execution_count": 41,
     "metadata": {},
     "output_type": "execute_result"
    }
   ],
   "source": [
    "df_temp.loc['std']"
   ]
  },
  {
   "cell_type": "markdown",
   "id": "164aa190",
   "metadata": {},
   "source": [
    "## Test"
   ]
  },
  {
   "cell_type": "code",
   "execution_count": 44,
   "id": "7b727059",
   "metadata": {},
   "outputs": [
    {
     "data": {
      "text/plain": [
       "'/Users/joonghochoi/Desktop/Transfer_learning_zillow'"
      ]
     },
     "execution_count": 44,
     "metadata": {},
     "output_type": "execute_result"
    }
   ],
   "source": [
    "os.getcwd()"
   ]
  },
  {
   "cell_type": "code",
   "execution_count": 45,
   "id": "20fb11a7",
   "metadata": {},
   "outputs": [
    {
     "name": "stdout",
     "output_type": "stream",
     "text": [
      "\u001b[34m1_images\u001b[m\u001b[m/                               df_selected_final.csv\r\n",
      "1_images.zip                            image_downloader.txt\r\n",
      "TL_features.csv                         post_transfer_pred_salesprice copy.Rmd\r\n",
      "Transfer-Learning_v2.ipynb\r\n"
     ]
    }
   ],
   "source": [
    "ls"
   ]
  },
  {
   "cell_type": "code",
   "execution_count": null,
   "id": "7c21b7c8",
   "metadata": {},
   "outputs": [],
   "source": []
  },
  {
   "cell_type": "code",
   "execution_count": 48,
   "id": "9a689f61",
   "metadata": {
    "ExecuteTime": {
     "end_time": "2022-06-03T00:33:06.445717Z",
     "start_time": "2022-06-03T00:33:06.416207Z"
    }
   },
   "outputs": [
    {
     "data": {
      "image/png": "[encoded data removed]",
      "text/plain": [
       "<PIL.Image.Image image mode=RGB size=224x224 at 0x15F473430>"
      ]
     },
     "execution_count": 48,
     "metadata": {},
     "output_type": "execute_result"
    }
   ],
   "source": [
    "imagePath='1_images/1_image_zoey_1_50/11311273/0.jpeg'\n",
    "\n",
    "image = keras.preprocessing.image.load_img(imagePath, target_size=(224, 224))\n",
    "image"
   ]
  },
  {
   "cell_type": "code",
   "execution_count": 49,
   "id": "e9b16f0c",
   "metadata": {
    "ExecuteTime": {
     "end_time": "2022-06-03T00:33:09.462646Z",
     "start_time": "2022-06-03T00:33:09.455838Z"
    }
   },
   "outputs": [],
   "source": [
    "image = keras.preprocessing.image.img_to_array(image)\n",
    "image = np.expand_dims(image, axis=0)\n",
    "image = keras.applications.resnet50.preprocess_input(image)\n"
   ]
  },
  {
   "cell_type": "code",
   "execution_count": 50,
   "id": "a078b35a",
   "metadata": {
    "ExecuteTime": {
     "end_time": "2022-06-03T00:33:10.214408Z",
     "start_time": "2022-06-03T00:33:10.208222Z"
    }
   },
   "outputs": [
    {
     "data": {
      "text/plain": [
       "(1, 224, 224, 3)"
      ]
     },
     "execution_count": 50,
     "metadata": {},
     "output_type": "execute_result"
    }
   ],
   "source": [
    "image.shape"
   ]
  },
  {
   "cell_type": "code",
   "execution_count": null,
   "id": "df7d9dd0",
   "metadata": {
    "ExecuteTime": {
     "end_time": "2022-06-02T19:56:24.704251Z",
     "start_time": "2022-06-02T19:56:24.699690Z"
    }
   },
   "outputs": [],
   "source": []
  },
  {
   "cell_type": "code",
   "execution_count": 51,
   "id": "bf4436d1",
   "metadata": {
    "ExecuteTime": {
     "end_time": "2022-06-03T00:33:15.675327Z",
     "start_time": "2022-06-03T00:33:14.824982Z"
    }
   },
   "outputs": [],
   "source": [
    "features = base_model.predict(image)\n",
    "# features = features.reshape((features.shape[0], 7 * 7 * 2048))\n",
    "features = features.reshape((features.shape[0], -1))"
   ]
  },
  {
   "cell_type": "code",
   "execution_count": 52,
   "id": "26f87fc3",
   "metadata": {
    "ExecuteTime": {
     "end_time": "2022-06-03T00:33:16.827140Z",
     "start_time": "2022-06-03T00:33:16.820424Z"
    }
   },
   "outputs": [
    {
     "data": {
      "text/plain": [
       "(1, 100352)"
      ]
     },
     "execution_count": 52,
     "metadata": {},
     "output_type": "execute_result"
    }
   ],
   "source": [
    "features.shape"
   ]
  },
  {
   "cell_type": "code",
   "execution_count": 53,
   "id": "c3415cc3",
   "metadata": {
    "ExecuteTime": {
     "end_time": "2022-06-03T00:33:27.634363Z",
     "start_time": "2022-06-03T00:33:27.617195Z"
    }
   },
   "outputs": [
    {
     "data": {
      "text/plain": [
       "0.000000    85480\n",
       "0.930822        2\n",
       "4.894685        2\n",
       "0.670810        2\n",
       "1.401433        2\n",
       "            ...  \n",
       "7.652251        1\n",
       "0.625693        1\n",
       "0.329053        1\n",
       "1.165685        1\n",
       "3.080730        1\n",
       "Length: 14868, dtype: int64"
      ]
     },
     "execution_count": 53,
     "metadata": {},
     "output_type": "execute_result"
    }
   ],
   "source": [
    "pd.Series(features[0,:]).value_counts()"
   ]
  },
  {
   "cell_type": "code",
   "execution_count": null,
   "id": "49eed088",
   "metadata": {},
   "outputs": [],
   "source": [
    "s"
   ]
  }
 ],
 "metadata": {
  "kernelspec": {
   "display_name": "Python 3",
   "language": "python",
   "name": "python3"
  },
  "language_info": {
   "codemirror_mode": {
    "name": "ipython",
    "version": 3
   },
   "file_extension": ".py",
   "mimetype": "text/x-python",
   "name": "python",
   "nbconvert_exporter": "python",
   "pygments_lexer": "ipython3",
   "version": "3.9.5"
  },
  "toc": {
   "base_numbering": 1,
   "nav_menu": {},
   "number_sections": true,
   "sideBar": true,
   "skip_h1_title": false,
   "title_cell": "Table of Contents",
   "title_sidebar": "Contents",
   "toc_cell": false,
   "toc_position": {},
   "toc_section_display": true,
   "toc_window_display": true
  },
  "varInspector": {
   "cols": {
    "lenName": 16,
    "lenType": 16,
    "lenVar": 40
   },
   "kernels_config": {
    "python": {
     "delete_cmd_postfix": "",
     "delete_cmd_prefix": "del ",
     "library": "var_list.py",
     "varRefreshCmd": "print(var_dic_list())"
    },
    "r": {
     "delete_cmd_postfix": ") ",
     "delete_cmd_prefix": "rm(",
     "library": "var_list.r",
     "varRefreshCmd": "cat(var_dic_list()) "
    }
   },
   "types_to_exclude": [
    "module",
    "function",
    "builtin_function_or_method",
    "instance",
    "_Feature"
   ],
   "window_display": false
  }
 },
 "nbformat": 4,
 "nbformat_minor": 5
}
